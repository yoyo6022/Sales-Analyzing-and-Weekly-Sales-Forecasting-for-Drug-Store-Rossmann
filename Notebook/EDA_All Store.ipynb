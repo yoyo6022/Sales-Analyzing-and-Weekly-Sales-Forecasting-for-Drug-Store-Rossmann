{
 "cells": [
  {
   "cell_type": "code",
   "execution_count": 1,
   "metadata": {},
   "outputs": [],
   "source": [
    "import os\n",
    "import warnings\n",
    "warnings.filterwarnings(\"ignore\")\n",
    "import numpy as np \n",
    "import pandas as pd \n",
    "import sklearn\n",
    "import matplotlib.pyplot as plt\n",
    "import seaborn as sns\n",
    "sns.set()\n",
    "from sklearn.datasets import make_blobs\n",
    "from sklearn.cluster import KMeans\n",
    "from sklearn.metrics import silhouette_samples, silhouette_score\n",
    "%matplotlib inline"
   ]
  },
  {
   "cell_type": "code",
   "execution_count": 2,
   "metadata": {},
   "outputs": [
    {
     "name": "stdout",
     "output_type": "stream",
     "text": [
      "/Users/liuyang/Desktop/Springboard_Capstone3/Notebook\n",
      "/Users/liuyang/Desktop/Springboard_Capstone3\n"
     ]
    }
   ],
   "source": [
    "print(os.getcwd())\n",
    "os.chdir('/Users/liuyang/Desktop/Springboard_Capstone3') \n",
    "print(os.getcwd())"
   ]
  },
  {
   "cell_type": "code",
   "execution_count": 3,
   "metadata": {},
   "outputs": [],
   "source": [
    "df = pd.read_csv('data/train.csv')"
   ]
  },
  {
   "cell_type": "code",
   "execution_count": 4,
   "metadata": {},
   "outputs": [
    {
     "data": {
      "text/html": [
       "<div>\n",
       "<style scoped>\n",
       "    .dataframe tbody tr th:only-of-type {\n",
       "        vertical-align: middle;\n",
       "    }\n",
       "\n",
       "    .dataframe tbody tr th {\n",
       "        vertical-align: top;\n",
       "    }\n",
       "\n",
       "    .dataframe thead th {\n",
       "        text-align: right;\n",
       "    }\n",
       "</style>\n",
       "<table border=\"1\" class=\"dataframe\">\n",
       "  <thead>\n",
       "    <tr style=\"text-align: right;\">\n",
       "      <th></th>\n",
       "      <th>Store</th>\n",
       "      <th>DayOfWeek</th>\n",
       "      <th>Date</th>\n",
       "      <th>Sales</th>\n",
       "      <th>Customers</th>\n",
       "      <th>Open</th>\n",
       "      <th>Promo</th>\n",
       "      <th>StateHoliday</th>\n",
       "      <th>SchoolHoliday</th>\n",
       "    </tr>\n",
       "  </thead>\n",
       "  <tbody>\n",
       "    <tr>\n",
       "      <th>0</th>\n",
       "      <td>1</td>\n",
       "      <td>5</td>\n",
       "      <td>2015-07-31</td>\n",
       "      <td>5263</td>\n",
       "      <td>555</td>\n",
       "      <td>1</td>\n",
       "      <td>1</td>\n",
       "      <td>0</td>\n",
       "      <td>1</td>\n",
       "    </tr>\n",
       "    <tr>\n",
       "      <th>1</th>\n",
       "      <td>2</td>\n",
       "      <td>5</td>\n",
       "      <td>2015-07-31</td>\n",
       "      <td>6064</td>\n",
       "      <td>625</td>\n",
       "      <td>1</td>\n",
       "      <td>1</td>\n",
       "      <td>0</td>\n",
       "      <td>1</td>\n",
       "    </tr>\n",
       "    <tr>\n",
       "      <th>2</th>\n",
       "      <td>3</td>\n",
       "      <td>5</td>\n",
       "      <td>2015-07-31</td>\n",
       "      <td>8314</td>\n",
       "      <td>821</td>\n",
       "      <td>1</td>\n",
       "      <td>1</td>\n",
       "      <td>0</td>\n",
       "      <td>1</td>\n",
       "    </tr>\n",
       "    <tr>\n",
       "      <th>3</th>\n",
       "      <td>4</td>\n",
       "      <td>5</td>\n",
       "      <td>2015-07-31</td>\n",
       "      <td>13995</td>\n",
       "      <td>1498</td>\n",
       "      <td>1</td>\n",
       "      <td>1</td>\n",
       "      <td>0</td>\n",
       "      <td>1</td>\n",
       "    </tr>\n",
       "    <tr>\n",
       "      <th>4</th>\n",
       "      <td>5</td>\n",
       "      <td>5</td>\n",
       "      <td>2015-07-31</td>\n",
       "      <td>4822</td>\n",
       "      <td>559</td>\n",
       "      <td>1</td>\n",
       "      <td>1</td>\n",
       "      <td>0</td>\n",
       "      <td>1</td>\n",
       "    </tr>\n",
       "  </tbody>\n",
       "</table>\n",
       "</div>"
      ],
      "text/plain": [
       "   Store  DayOfWeek        Date  Sales  Customers  Open  Promo StateHoliday  \\\n",
       "0      1          5  2015-07-31   5263        555     1      1            0   \n",
       "1      2          5  2015-07-31   6064        625     1      1            0   \n",
       "2      3          5  2015-07-31   8314        821     1      1            0   \n",
       "3      4          5  2015-07-31  13995       1498     1      1            0   \n",
       "4      5          5  2015-07-31   4822        559     1      1            0   \n",
       "\n",
       "   SchoolHoliday  \n",
       "0              1  \n",
       "1              1  \n",
       "2              1  \n",
       "3              1  \n",
       "4              1  "
      ]
     },
     "execution_count": 4,
     "metadata": {},
     "output_type": "execute_result"
    }
   ],
   "source": [
    "df.head()"
   ]
  },
  {
   "cell_type": "code",
   "execution_count": 5,
   "metadata": {},
   "outputs": [
    {
     "data": {
      "text/plain": [
       "(1017209, 9)"
      ]
     },
     "execution_count": 5,
     "metadata": {},
     "output_type": "execute_result"
    }
   ],
   "source": [
    "df.shape"
   ]
  },
  {
   "cell_type": "code",
   "execution_count": 6,
   "metadata": {},
   "outputs": [],
   "source": [
    "df = df.sort_values(['Date', 'Store'], ascending=True)"
   ]
  },
  {
   "cell_type": "code",
   "execution_count": 7,
   "metadata": {},
   "outputs": [
    {
     "data": {
      "text/html": [
       "<div>\n",
       "<style scoped>\n",
       "    .dataframe tbody tr th:only-of-type {\n",
       "        vertical-align: middle;\n",
       "    }\n",
       "\n",
       "    .dataframe tbody tr th {\n",
       "        vertical-align: top;\n",
       "    }\n",
       "\n",
       "    .dataframe thead th {\n",
       "        text-align: right;\n",
       "    }\n",
       "</style>\n",
       "<table border=\"1\" class=\"dataframe\">\n",
       "  <thead>\n",
       "    <tr style=\"text-align: right;\">\n",
       "      <th></th>\n",
       "      <th>Store</th>\n",
       "      <th>DayOfWeek</th>\n",
       "      <th>Date</th>\n",
       "      <th>Sales</th>\n",
       "      <th>Customers</th>\n",
       "      <th>Open</th>\n",
       "      <th>Promo</th>\n",
       "      <th>StateHoliday</th>\n",
       "      <th>SchoolHoliday</th>\n",
       "    </tr>\n",
       "  </thead>\n",
       "  <tbody>\n",
       "    <tr>\n",
       "      <th>1016095</th>\n",
       "      <td>1</td>\n",
       "      <td>2</td>\n",
       "      <td>2013-01-01</td>\n",
       "      <td>0</td>\n",
       "      <td>0</td>\n",
       "      <td>0</td>\n",
       "      <td>0</td>\n",
       "      <td>a</td>\n",
       "      <td>1</td>\n",
       "    </tr>\n",
       "    <tr>\n",
       "      <th>1016096</th>\n",
       "      <td>2</td>\n",
       "      <td>2</td>\n",
       "      <td>2013-01-01</td>\n",
       "      <td>0</td>\n",
       "      <td>0</td>\n",
       "      <td>0</td>\n",
       "      <td>0</td>\n",
       "      <td>a</td>\n",
       "      <td>1</td>\n",
       "    </tr>\n",
       "    <tr>\n",
       "      <th>1016097</th>\n",
       "      <td>3</td>\n",
       "      <td>2</td>\n",
       "      <td>2013-01-01</td>\n",
       "      <td>0</td>\n",
       "      <td>0</td>\n",
       "      <td>0</td>\n",
       "      <td>0</td>\n",
       "      <td>a</td>\n",
       "      <td>1</td>\n",
       "    </tr>\n",
       "    <tr>\n",
       "      <th>1016098</th>\n",
       "      <td>4</td>\n",
       "      <td>2</td>\n",
       "      <td>2013-01-01</td>\n",
       "      <td>0</td>\n",
       "      <td>0</td>\n",
       "      <td>0</td>\n",
       "      <td>0</td>\n",
       "      <td>a</td>\n",
       "      <td>1</td>\n",
       "    </tr>\n",
       "    <tr>\n",
       "      <th>1016099</th>\n",
       "      <td>5</td>\n",
       "      <td>2</td>\n",
       "      <td>2013-01-01</td>\n",
       "      <td>0</td>\n",
       "      <td>0</td>\n",
       "      <td>0</td>\n",
       "      <td>0</td>\n",
       "      <td>a</td>\n",
       "      <td>1</td>\n",
       "    </tr>\n",
       "  </tbody>\n",
       "</table>\n",
       "</div>"
      ],
      "text/plain": [
       "         Store  DayOfWeek        Date  Sales  Customers  Open  Promo  \\\n",
       "1016095      1          2  2013-01-01      0          0     0      0   \n",
       "1016096      2          2  2013-01-01      0          0     0      0   \n",
       "1016097      3          2  2013-01-01      0          0     0      0   \n",
       "1016098      4          2  2013-01-01      0          0     0      0   \n",
       "1016099      5          2  2013-01-01      0          0     0      0   \n",
       "\n",
       "        StateHoliday  SchoolHoliday  \n",
       "1016095            a              1  \n",
       "1016096            a              1  \n",
       "1016097            a              1  \n",
       "1016098            a              1  \n",
       "1016099            a              1  "
      ]
     },
     "execution_count": 7,
     "metadata": {},
     "output_type": "execute_result"
    }
   ],
   "source": [
    "df.head()"
   ]
  },
  {
   "cell_type": "code",
   "execution_count": 8,
   "metadata": {
    "jupyter": {
     "source_hidden": true
    }
   },
   "outputs": [],
   "source": [
    "# class data_process:\n",
    "    \n",
    "#     def __init__(self, data):\n",
    "#         self.data = data\n",
    "#         self.count = data.nunique()\n",
    "#         self.va_pct = round(self.count/(data.shape[0])*100,4)\n",
    "#         self.nan_p = nan_p = round(data.isnull().sum()/data.shape[0]*100,4)\n",
    "        \n",
    "    \n",
    "#     def data_info(self):\n",
    "#         frame = pd.DataFrame(zip(self.count,self.va_pct,self.nan_p), \n",
    "#                              index=self.count.index, \n",
    "#         columns=['counts','unique_value_pct', 'nan_pct']).reset_index().rename(columns={'index': 'column'})\n",
    "\n",
    "#         frame['data_type']= self.data.dtypes.tolist()\n",
    "#         return frame.sort_values('counts', ascending=False)\n",
    "   \n",
    "\n",
    "#     def convert_datetime(self, datecol):\n",
    "#         self.data[datecol] = pd.to_datetime(self.data[datecol], format='%Y-%m-%d')\n",
    "    \n",
    "# #     def int_to_str(self, col):\n",
    "# #         self.data[col] = self.data[col].astype('str')\n",
    "    \n",
    "#     def convert_dtype(self):\n",
    "#         catcolumns = self.data.select_dtypes(include=['object']).columns.tolist()\n",
    "#         return pd.get_dummies(self.data, columns=catcolumns)\n",
    "    \n",
    "    \n",
    "#     def pivot_table(self, index, aggfunc):\n",
    "#         return pd.pivot_table(self.data, index=index, aggfunc=aggfunc)"
   ]
  },
  {
   "cell_type": "code",
   "execution_count": 9,
   "metadata": {
    "jupyter": {
     "source_hidden": true
    }
   },
   "outputs": [],
   "source": [
    "# class Sales_EDA:\n",
    "#     def __init__(self, data):\n",
    "#         self.data=data\n",
    "    \n",
    "        \n",
    "#     def nlargest_ID(self, N):\n",
    "#         topN_storeID = self.data.groupby('Store')['Sales'].sum().nlargest(N).index.tolist()\n",
    "#         return topN_storeID\n",
    "    \n",
    "#     def nsmallest_ID(self, N):\n",
    "#         bottomN_storeID = self.data.groupby('Store')['Sales'].sum().nsmallest(N).index.tolist()\n",
    "#         return bottomN_storeID\n",
    "    \n",
    "#     def topN_weekly_salesplot(self, N):\n",
    "#         plt.figure(figsize=(12, 7))\n",
    "#         for storeid in self.nlargest_ID(N):\n",
    "#             self.data.loc[self.data.Store==storeid].set_index('Date').Sales.resample('w').sum().plot(label= f'Store {storeid}')\n",
    "#         plt.legend()\n",
    "#         plt.title(f'Weekly Sales of Top {N} Store', fontsize=15)\n",
    "#         plt.xlabel('Date', fontsize=15)\n",
    "#         plt.ylabel('Weekly Sales', fontsize=15)\n",
    "#         plt.show()\n",
    "        \n",
    "#     def bottomN_weekly_salesplot(self, N):\n",
    "#         plt.figure(figsize=(12, 7))\n",
    "#         for storeid in self.nsmallest_ID(N):\n",
    "#             self.data.loc[self.data.Store==storeid].set_index('Date').Sales.resample('w').sum().plot(label= f'Store {storeid}')\n",
    "#         plt.legend()\n",
    "#         plt.title(f'Weekly Sales of Bottom {N} Store', fontsize=15)\n",
    "#         plt.xlabel('Date', fontsize=15)\n",
    "#         plt.ylabel('Weekly Sales', fontsize=15)\n",
    "#         plt.show()\n",
    "    \n",
    "    \n",
    "#     def topN_daily_violinplot(self, N):\n",
    "#         plt.figure(figsize=(12, 7))\n",
    "#         N_data = self.data.loc[self.data.Store.isin(self.nlargest_ID(N))]\n",
    "#         sns.violinplot(x='Sales', y='Store', \n",
    "#                        data=N_data, order=self.nlargest_ID(N),\n",
    "#                       orient='h')\n",
    "#         plt.title('Daily Sales of Top10 Stores', fontsize=15)\n",
    "#         plt.xlabel('Sales', fontsize=15)\n",
    "#         plt.ylabel('Store', fontsize=15)\n",
    "#         plt.show()\n",
    "\n",
    "#     def bottomN_daily_violinplot(self, N):\n",
    "#         plt.figure(figsize=(12, 7))\n",
    "#         b_N_data = self.data.loc[self.data.Store.isin(self.nsmallest_ID(N))]\n",
    "#         sns.violinplot(x='Sales', y='Store', \n",
    "#                        data=b_N_data, order=self.nsmallest_ID(N),\n",
    "#                       orient='h')\n",
    "        \n",
    "#         #sns.violinplot(x='Store', y='Sales', data=df.loc[df.Store.isin(self.nsmallest_ID(N))])\n",
    "#         plt.title('Daily Sales of Bottom Stores', fontsize=15)\n",
    "#         plt.xlabel('Daily Sales', fontsize=15)\n",
    "#         plt.ylabel('Store ID', fontsize=15)\n",
    "#         plt.show()"
   ]
  },
  {
   "cell_type": "code",
   "execution_count": 10,
   "metadata": {
    "jupyter": {
     "source_hidden": true
    }
   },
   "outputs": [],
   "source": [
    "# class sumby:\n",
    "#     def __init__(self, data, groupbycol, aggcol):\n",
    "#         self.data = data\n",
    "#         self.groupbycol = groupbycol\n",
    "#         self.aggcol = aggcol\n",
    "       \n",
    "        \n",
    "#     def get_sum_pct(self):\n",
    "#         total = self.data.groupby(self.groupbycol)[self.aggcol].sum()\n",
    "#         total = pd.DataFrame(total)\n",
    "#         total['pct'] = (total[self.aggcol]/total[self.aggcol].sum())*100\n",
    "#         total = total.sort_values(self.aggcol, ascending=False)\n",
    "#         total = total.reset_index()\n",
    "#         return total\n",
    "    \n",
    "#     def histgram(self,col):\n",
    "#         self.get_sum_pct()[col].hist()\n",
    "#         per50 = self.get_sum_pct()[col].describe()['50%']\n",
    "#         mean = self.get_sum_pct()[col].describe()['mean']\n",
    "#         plt.axvline(per50,color='r')\n",
    "#         plt.axvline(mean, color='r', linestyle='-.')\n",
    "#         plt.legend(['median', 'mean'])\n",
    "#         plt.title(f'Total {self.aggcol} by {self.groupbycol}', fontsize=15)\n",
    "#         plt.show()\n",
    "    \n",
    "#     def topN_barplot(self, N):\n",
    "#         bardata = self.get_sum_pct().set_index(self.groupbycol)\n",
    "#         plt.figure(figsize=(12,7))\n",
    "#         sns.barplot(y = bardata.Sales.nlargest(N).index, \n",
    "#                     x = bardata.Sales.nlargest(N).values, \n",
    "#                     order = bardata.Sales.nlargest(N).index,\n",
    "#                    orient='h')            \n",
    "#         plt.title(f'Total {self.aggcol} of Top {N} Stores', fontsize=15)\n",
    "#         plt.xlabel(self.aggcol, fontsize=15)\n",
    "#         plt.ylabel(self.groupbycol, fontsize=15)\n",
    "    \n",
    "#     def topN_sum_share(self, N):\n",
    "#         top10sum = round(self.get_sum_pct().iloc[:N].sum()[1],0)\n",
    "#         top10pct = round(self.get_sum_pct().iloc[:N].sum()[2],3)\n",
    "#         if len(self.data) > 1115:\n",
    "#             print(f'Top {N} {self.groupbycol} Total {self.aggcol}: {top10sum}')\n",
    "#             print(f'Top {N} {self.groupbycol} Total {self.aggcol} Share in All Stores: {top10pct}%')\n",
    "#         else:\n",
    "#             storetype = list(set(self.data.StoreType))[0].upper()\n",
    "#             print(f'{storetype} Type Store Top {N} {self.groupbycol} Total {self.aggcol}: {top10sum}')\n",
    "#             print(f'{storetype} Type Store Top {N} {self.groupbycol} Total {self.aggcol} Share: {top10pct}%')"
   ]
  },
  {
   "cell_type": "code",
   "execution_count": 11,
   "metadata": {
    "jupyter": {
     "source_hidden": true
    }
   },
   "outputs": [],
   "source": [
    "# class individual_store:\n",
    "#     def __init__(self, data, indexcol, storeid):\n",
    "#         self.data = data\n",
    "#         self.indexcol = indexcol\n",
    "#         self.storeid=storeid\n",
    "#         self.total_sales = sumby(self.data,'Store', 'Sales').get_sum_pct()\n",
    "#         self.id_total = self.total_sales.loc[self.total_sales.Store==self.storeid]\n",
    "#         self.storesales = self.id_total.iloc[0][1]\n",
    "#         self.ranking = self.id_total.index[0]+1\n",
    "#         self.share = round(self.id_total.iloc[0][2],3)\n",
    "#         self.opendays = self.data.loc[self.data.Store==self.storeid].set_index(self.indexcol).Open.value_counts()[1]\n",
    "#         if len(self.data.loc[self.data.Store==self.storeid].set_index(self.indexcol).Open.value_counts().index)==2:\n",
    "#             self.closeddays = self.data.loc[self.data.Store==self.storeid].set_index(self.indexcol).Open.value_counts()[0]\n",
    "#         else:\n",
    "#             self.closeddays=0\n",
    " \n",
    "#     def store_opendays(self):\n",
    "#         print(f'Store {self.storeid} open days: {self.opendays}')\n",
    "#         print(f'Store {self.storeid} closed days: {self.closeddays}')\n",
    "\n",
    "            \n",
    "#     def get_sales_share_ranking(self):\n",
    "#         storenumber = len(set(self.data.Store))\n",
    "#         print(f'Total Sales of Store {self.storeid} is {self.storesales}')\n",
    "#         print(f'Sales share among {storenumber} stores : {self.share}%')\n",
    "#         print(f'Ranking among {storenumber} stores : {self.ranking}')\n",
    "     \n",
    "#     def lineplot(self,col):\n",
    "#         plt.figure(figsize=(12, 7))\n",
    "#         dailydata = self.data.loc[self.data.Store==self.storeid].set_index('Date')[col]\n",
    "#         plt.plot(dailydata)\n",
    "#         plt.plot(dailydata.index,dailydata.rolling(14).mean(), 'red')\n",
    "#         plt.plot(dailydata.resample('w').sum(), 'green')\n",
    "#         plt.legend([f'Daily {col}', 'Rolling mean (14D)', f'Weekly {col}'])\n",
    "#         plt.title(f'{col} of store {self.storeid}', fontsize=15)\n",
    "#         plt.show()\n",
    "        \n",
    "#     def store_report(self):\n",
    "#         storetype = newstoredata.loc[newstoredata.Store==self.storeid].StoreType.iloc[0]\n",
    "#         assortmenttype = newstoredata.loc[newstoredata.Store==self.storeid].Assortment.iloc[0]\n",
    "#         storetypedata = sumby(newstoredata.loc[newstoredata.StoreType==storetype],'Store', 'Sales').get_sum_pct()\n",
    "#         assortttypedata = sumby(newstoredata.loc[newstoredata.Assortment==assortmenttype],'Store', 'Sales').get_sum_pct()\n",
    "#         ranking2 = storetypedata.loc[storetypedata.Store==self.storeid].index[0]+1\n",
    "#         ranking3 = assortttypedata.loc[assortttypedata.Store==self.storeid].index[0]+1\n",
    "#         storenumber2 = len(storetypedata)\n",
    "#         storenumber3 = len(assortttypedata)\n",
    "#         share2 = round(storetypedata.iloc[0][2],3)\n",
    "#         share3 = round(assortttypedata.iloc[0][2],3)\n",
    "                                        \n",
    "        \n",
    "#         return pd.DataFrame([self.storeid,storetype.upper(),assortmenttype.upper(), self.opendays, \n",
    "#                              self.closeddays, self.storesales,self.share, share2, share3, \n",
    "#                              self.ranking, ranking2, ranking3],\n",
    "#                            index=['Storeid', 'Store Type', 'Assortment', 'Open Days',\n",
    "#                                  'Closed Days', 'Total Sales', 'Share in All Store (%)', \n",
    "#                                  f'Share in {storetype.upper()} Type (%)', \n",
    "#                                  f'Share in {assortmenttype.upper()} Assortment (%)',\n",
    "#                                  'Ranking in All Store',\n",
    "#                                  f'Ranking in {storetype.upper()} Type', \n",
    "#                                  f'Ranking in {assortmenttype.upper()} Assortment'],\n",
    "#                            columns=['Detail'])\n",
    "    \n",
    "        "
   ]
  },
  {
   "cell_type": "code",
   "execution_count": 15,
   "metadata": {},
   "outputs": [],
   "source": [
    "import sys\n",
    "# insert at 1, 0 is the script path (or '' in REPL)\n",
    "sys.path.insert(1, '/Users/liuyang/Desktop/Springboard_Capstone3/notebook')\n",
    "\n",
    "import eda"
   ]
  },
  {
   "cell_type": "code",
   "execution_count": null,
   "metadata": {},
   "outputs": [],
   "source": [
    "from eda import data_process, \n",
    "Sales_EDA, \n",
    "sumby, \n",
    "individual_store, \n",
    "combined_storedata, \n",
    "combined_store_EDA"
   ]
  },
  {
   "cell_type": "code",
   "execution_count": null,
   "metadata": {},
   "outputs": [],
   "source": [
    "df_process = data_process(df)"
   ]
  },
  {
   "cell_type": "code",
   "execution_count": null,
   "metadata": {},
   "outputs": [],
   "source": [
    "df_process.convert_datetime('Date')"
   ]
  },
  {
   "cell_type": "code",
   "execution_count": null,
   "metadata": {},
   "outputs": [],
   "source": [
    "df_process.data_info()"
   ]
  },
  {
   "cell_type": "code",
   "execution_count": null,
   "metadata": {},
   "outputs": [],
   "source": [
    "df.describe().T"
   ]
  },
  {
   "cell_type": "code",
   "execution_count": null,
   "metadata": {},
   "outputs": [],
   "source": [
    "period_days = len(set(df.Date))\n",
    "period_weeks = len(df.set_index('Date').groupby('Date').resample('w'))\n",
    "numberOfstore = len(set(df.Store))\n",
    "\n",
    "print(f'Data contains data of {numberOfstore} stores')\n",
    "print(f'Data contains data of {period_days} days (2013-01-01 ~ 2015-07-31)')\n",
    "print(f'Data contains data of {period_weeks} weeks')"
   ]
  },
  {
   "cell_type": "markdown",
   "metadata": {},
   "source": [
    "## Daily Sales"
   ]
  },
  {
   "cell_type": "code",
   "execution_count": null,
   "metadata": {},
   "outputs": [],
   "source": [
    "def histplot_mean_median(data, col):\n",
    "    data[col].hist()\n",
    "    per50 = data[col].describe()['50%']\n",
    "    mean = data[col].describe()['mean']\n",
    "    plt.axvline(per50,color='r')\n",
    "    plt.axvline(mean, color='r', linestyle='-.')\n",
    "    plt.legend(['median', 'mean'])\n",
    "\n",
    "    plt.title(f'Daily {col} Distribution', fontsize=15)\n",
    "    plt.show()"
   ]
  },
  {
   "cell_type": "code",
   "execution_count": null,
   "metadata": {},
   "outputs": [],
   "source": [
    "# check daily sales of 1115 stores over 942 days\n",
    "plt.rcParams['figure.figsize'] = (12, 7)\n",
    "histplot_mean_median(df, 'Sales')\n",
    "\n",
    "sns.boxplot(x=df.Sales)\n",
    "plt.title('Daily Sales', fontsize=15)\n",
    "plt.show()"
   ]
  },
  {
   "cell_type": "markdown",
   "metadata": {},
   "source": [
    "In the histogram, we can see mean and median are very close to each other"
   ]
  },
  {
   "cell_type": "code",
   "execution_count": null,
   "metadata": {},
   "outputs": [],
   "source": [
    "# check the details of daily sales outlier\n",
    "df.loc[df.Sales.idxmax()]"
   ]
  },
  {
   "cell_type": "code",
   "execution_count": null,
   "metadata": {},
   "outputs": [],
   "source": [
    "# check store open days and sales plot for store 909\n",
    "storeid=909\n",
    "store909 = individual_store(df, 'Date', storeid)\n",
    "\n",
    "store909.store_opendays()\n",
    "store909.lineplot('Sales')"
   ]
  },
  {
   "cell_type": "markdown",
   "metadata": {},
   "source": [
    "We can see the sales peak happens at 2015-06-22.\n",
    "By analyzing the sales plot of store 909 we can see the peak was just an one time exception."
   ]
  },
  {
   "cell_type": "markdown",
   "metadata": {},
   "source": [
    "## Daily Customer"
   ]
  },
  {
   "cell_type": "code",
   "execution_count": null,
   "metadata": {},
   "outputs": [],
   "source": [
    "# check daily customers of 1115 stores over 942 days\n",
    "histplot_mean_median(df, 'Customers')\n",
    "\n",
    "sns.boxplot(x=df.Customers)\n",
    "plt.title('Daily Customers', fontsize=15)\n",
    "plt.show()"
   ]
  },
  {
   "cell_type": "code",
   "execution_count": null,
   "metadata": {},
   "outputs": [],
   "source": [
    "# check the details of daily customers outlier\n",
    "df.loc[df.Customers.idxmax()]"
   ]
  },
  {
   "cell_type": "code",
   "execution_count": null,
   "metadata": {},
   "outputs": [],
   "source": [
    "# check the customer line plot for store 817\n",
    "storeid=817\n",
    "store817 = individual_store(df, 'Date',storeid)\n",
    "store817.store_opendays()\n",
    "store817.lineplot('Customers')"
   ]
  },
  {
   "cell_type": "markdown",
   "metadata": {},
   "source": [
    "We can see the peak of customer happens at 2013-01-22. By analyzing the customer plot of store 817 we can see the peak was just an one time exception."
   ]
  },
  {
   "cell_type": "markdown",
   "metadata": {},
   "source": [
    "## 942 Days Sum up by Store"
   ]
  },
  {
   "cell_type": "code",
   "execution_count": null,
   "metadata": {},
   "outputs": [],
   "source": [
    "sumsales_by_store = sumby(df, 'Store', 'Sales')"
   ]
  },
  {
   "cell_type": "code",
   "execution_count": null,
   "metadata": {},
   "outputs": [],
   "source": [
    "#alldata = totalby(df, 'Date', 'Customers')"
   ]
  },
  {
   "cell_type": "code",
   "execution_count": null,
   "metadata": {},
   "outputs": [],
   "source": [
    "#alldata.total_by()"
   ]
  },
  {
   "cell_type": "code",
   "execution_count": null,
   "metadata": {},
   "outputs": [],
   "source": [
    "# make a dataframe contains sum up sales and total sales shares for each store over 942 days\n",
    "# sorted in descending order\n",
    "sumsales_by_store.get_sum_pct()"
   ]
  },
  {
   "cell_type": "code",
   "execution_count": null,
   "metadata": {},
   "outputs": [],
   "source": [
    "# statistic summary of total sales and shares of each store over 942 days\n",
    "sumsales_by_store.get_sum_pct().describe()"
   ]
  },
  {
   "cell_type": "code",
   "execution_count": null,
   "metadata": {},
   "outputs": [],
   "source": [
    "# check distribution of sum up sales over 942 days of 1115 stores\n",
    "sumsales_by_store.histgram('Sales')\n",
    "\n",
    "sns.boxplot(x=sumsales_by_store.get_sum_pct().Sales)\n",
    "plt.show()"
   ]
  },
  {
   "cell_type": "code",
   "execution_count": null,
   "metadata": {},
   "outputs": [],
   "source": [
    "# get the sum of sales and share of top 10 stores over 942 day\n",
    "sumsales_by_store.topN_sum_share(10)"
   ]
  },
  {
   "cell_type": "markdown",
   "metadata": {},
   "source": [
    "## Sum up Sales Barplot of Top 10 Stores over 942 Days"
   ]
  },
  {
   "cell_type": "code",
   "execution_count": null,
   "metadata": {},
   "outputs": [],
   "source": [
    "sumsales_by_store.topN_barplot(10)"
   ]
  },
  {
   "cell_type": "markdown",
   "metadata": {},
   "source": [
    "## Daily Sales Violinplot of Top 10 Stores over 942 Days"
   ]
  },
  {
   "cell_type": "code",
   "execution_count": null,
   "metadata": {},
   "outputs": [],
   "source": [
    "# check daily sales of Top 10 stores \n",
    "sales_by_store= Sales_EDA(df)\n",
    "sales_by_store.topN_daily_violinplot(10)"
   ]
  },
  {
   "cell_type": "markdown",
   "metadata": {},
   "source": [
    "## Weekly Total Sales"
   ]
  },
  {
   "cell_type": "code",
   "execution_count": null,
   "metadata": {},
   "outputs": [],
   "source": [
    "markers= df_process.pivot_table('Date', 'sum').resample('w').Sales.sum().nlargest(3)\n",
    "weeklytotalsales = df_process.pivot_table('Date', 'sum').resample('w').Sales.sum()\n",
    "\n",
    "plt.figure(figsize=(12, 7))\n",
    "plt.plot(weeklytotalsales.index, weeklytotalsales.values)\n",
    "plt.plot(markers.index, markers.values, \"D\", markersize=8)\n",
    "plt.title('Weekly Sales of All Stores', fontsize=15)\n",
    "plt.xlabel('Date', fontsize=15)\n",
    "plt.ylabel('Weekly Sales', fontsize=15)\n",
    "plt.show()\n",
    "\n",
    "print(f'Three peaks happens at: \\n {markers}')"
   ]
  },
  {
   "cell_type": "markdown",
   "metadata": {},
   "source": [
    "#### From the weekly sales sum up by all stores, We can see the 3 peaks happens at 12-08 ~ 12-22 week in both 2013 and 2014, which is around christmas season. Therefore we assume this trend also exist in individual store. "
   ]
  },
  {
   "cell_type": "markdown",
   "metadata": {},
   "source": [
    "## Plot the number of daily open stores over 942 days"
   ]
  },
  {
   "cell_type": "code",
   "execution_count": null,
   "metadata": {},
   "outputs": [],
   "source": [
    "pd.pivot_table(df[['Date', 'Store']], index='Date', aggfunc='count').plot()\n",
    "plt.title('Number of Open Stores (Daily)')\n",
    "plt.show()"
   ]
  },
  {
   "cell_type": "code",
   "execution_count": null,
   "metadata": {},
   "outputs": [],
   "source": [
    "closedstore = (pd.pivot_table(df[['Date', 'Store']], index='Date', aggfunc='count').max() - pd.pivot_table(df[['Date', 'Store']], index='Date', aggfunc='count').min())[0]\n",
    "print(f'number of closed store:{closedstore}')"
   ]
  },
  {
   "cell_type": "markdown",
   "metadata": {},
   "source": [
    "#### We can see there's a big decline in sales during 2014-07-01 ~ 2014-12-31 as 180 stores were closed due to refurbishment"
   ]
  },
  {
   "cell_type": "markdown",
   "metadata": {},
   "source": [
    "## Check Weekly Sales Plot for Top 3 and Bottom 3 Stores"
   ]
  },
  {
   "cell_type": "code",
   "execution_count": null,
   "metadata": {},
   "outputs": [],
   "source": [
    "sales_by_store.topN_weekly_salesplot(3)\n",
    "sales_by_store.bottomN_weekly_salesplot(3)"
   ]
  },
  {
   "cell_type": "markdown",
   "metadata": {},
   "source": [
    "## Check Weekly Sales Plot for Top 10 and Bottom 10 Stores"
   ]
  },
  {
   "cell_type": "code",
   "execution_count": null,
   "metadata": {},
   "outputs": [],
   "source": [
    "sales_by_store.topN_weekly_salesplot(10)\n",
    "sales_by_store.bottomN_weekly_salesplot(10)"
   ]
  },
  {
   "cell_type": "markdown",
   "metadata": {},
   "source": [
    "## Conclusion 1: we can see peak during christmas season is common among most of stores "
   ]
  },
  {
   "cell_type": "markdown",
   "metadata": {},
   "source": [
    "### Add 3 new metrics: AverageDailySales, AverageDailyCustomer, SalesPerCustomer "
   ]
  },
  {
   "cell_type": "code",
   "execution_count": null,
   "metadata": {},
   "outputs": [],
   "source": [
    "store_sum = df_process.pivot_table('Store', 'sum')\n",
    "store_sum['AverageDailySales'] = store_sum['Sales']/store_sum['Open']\n",
    "store_sum['AverageDailyCustomer'] = store_sum['Customers']/store_sum['Open']\n",
    "store_sum['SalesPerCustomer'] = store_sum['Sales']/store_sum['Customers']"
   ]
  },
  {
   "cell_type": "code",
   "execution_count": null,
   "metadata": {},
   "outputs": [],
   "source": [
    "store_sum.sort_values('Sales', ascending=False)"
   ]
  },
  {
   "cell_type": "markdown",
   "metadata": {},
   "source": [
    "## Average Daily Sales"
   ]
  },
  {
   "cell_type": "code",
   "execution_count": null,
   "metadata": {},
   "outputs": [],
   "source": [
    "# plot 10 stores with the highest avarege daily sales\n",
    "\n",
    "sns.barplot(y=store_sum.AverageDailySales.nlargest(10).index,\n",
    "            x=store_sum.AverageDailySales.nlargest(10).values,\n",
    "            order = store_sum.AverageDailySales.nlargest(10).index,\n",
    "           orient='h')\n",
    "\n",
    "plt.title('Average Daily Sales Top 10 Store', fontsize=15)\n",
    "plt.xlabel('AverageDailySales', fontsize=15)\n",
    "plt.ylabel('Store', fontsize=15)\n",
    "plt.show()"
   ]
  },
  {
   "cell_type": "code",
   "execution_count": null,
   "metadata": {},
   "outputs": [],
   "source": [
    "# # check the ranking of sales per customer of store 262, store 817\n",
    "# newstoredata.SalesPerCustomer[261]\n",
    "# print(sorted(newstoredata.SalesPerCustomer).index(newstoredata.SalesPerCustomer[261]))\n",
    "\n",
    "# newstoredata.SalesPerCustomer[816]\n",
    "# print(sorted(newstoredata.SalesPerCustomer).index(newstoredata.SalesPerCustomer[816]))\n",
    "\n",
    "# newstoredata.SalesPerCustomer[1113]\n",
    "# print(sorted(newstoredata.SalesPerCustomer).index(newstoredata.SalesPerCustomer[1113]))"
   ]
  },
  {
   "cell_type": "markdown",
   "metadata": {},
   "source": [
    "# Note: If we can increase the sales per customer for store 262, 817, 34, the impact on increasing total sales will be big.\n"
   ]
  },
  {
   "cell_type": "code",
   "execution_count": null,
   "metadata": {},
   "outputs": [],
   "source": [
    "# compare it with plot of 10 highest total sales (sum of 942 days)\n",
    "\n",
    "sumsales_by_store.topN_barplot(10)"
   ]
  },
  {
   "cell_type": "code",
   "execution_count": null,
   "metadata": {},
   "outputs": [],
   "source": [
    "set(sales_by_store.nlargest_ID(10)).difference(set(store_sum.AverageDailySales.nlargest(10).index))"
   ]
  },
  {
   "cell_type": "code",
   "execution_count": null,
   "metadata": {},
   "outputs": [],
   "source": [
    "set(store_sum.AverageDailySales.nlargest(10).index).difference(set(sales_by_store.nlargest_ID(10)))"
   ]
  },
  {
   "cell_type": "markdown",
   "metadata": {},
   "source": [
    "We can see the top 10 stores in average daily sales ranking plot are very similar to top 10 stores in total sales ranking, except store 842 replaced store 733 in average daily sales ranking. "
   ]
  },
  {
   "cell_type": "markdown",
   "metadata": {},
   "source": [
    "## Average Daily Customers "
   ]
  },
  {
   "cell_type": "code",
   "execution_count": null,
   "metadata": {},
   "outputs": [],
   "source": [
    "sns.barplot(y=store_sum.AverageDailyCustomer.nlargest(10).index,\n",
    "            x=store_sum.AverageDailyCustomer.nlargest(10).values,\n",
    "            order = store_sum.AverageDailyCustomer.nlargest(10).index,\n",
    "           orient='h')\n",
    "\n",
    "plt.title('Top 10 Ranking of Average Daily Customers', fontsize=15)\n",
    "plt.xlabel('AverageDailyCustomer', fontsize=15)\n",
    "plt.ylabel('Store', fontsize=15)\n",
    "plt.show()"
   ]
  },
  {
   "cell_type": "markdown",
   "metadata": {},
   "source": [
    "## Sales Per Customer "
   ]
  },
  {
   "cell_type": "code",
   "execution_count": null,
   "metadata": {},
   "outputs": [],
   "source": [
    "sns.barplot(y=store_sum.SalesPerCustomer.nlargest(10).index,\n",
    "            x=store_sum.SalesPerCustomer.nlargest(10).values,\n",
    "            order = store_sum.SalesPerCustomer.nlargest(10).index,\n",
    "           orient='h')\n",
    "\n",
    "plt.title('Top 10 Ranking of Sales Per Customer', fontsize=15)\n",
    "plt.xlabel('SalesPerCustomer', fontsize=15)\n",
    "plt.ylabel('Store', fontsize=15)\n",
    "plt.show()"
   ]
  }
 ],
 "metadata": {
  "kernelspec": {
   "display_name": "py36",
   "language": "python",
   "name": "py36"
  },
  "language_info": {
   "codemirror_mode": {
    "name": "ipython",
    "version": 3
   },
   "file_extension": ".py",
   "mimetype": "text/x-python",
   "name": "python",
   "nbconvert_exporter": "python",
   "pygments_lexer": "ipython3",
   "version": "3.6.10"
  }
 },
 "nbformat": 4,
 "nbformat_minor": 4
}
