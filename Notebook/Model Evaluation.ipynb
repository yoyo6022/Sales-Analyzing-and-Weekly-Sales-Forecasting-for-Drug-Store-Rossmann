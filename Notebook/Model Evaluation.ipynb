{
 "cells": [
  {
   "cell_type": "code",
   "execution_count": 1,
   "metadata": {},
   "outputs": [],
   "source": [
    "import os\n",
    "import warnings\n",
    "warnings.filterwarnings(\"ignore\")\n",
    "import numpy as np \n",
    "import pandas as pd \n",
    "import matplotlib.pyplot as plt\n",
    "import seaborn as sns\n",
    "sns.set()\n",
    "from pmdarima.arima import auto_arima\n",
    "from sklearn.metrics import mean_absolute_error\n",
    "from sklearn.metrics import mean_squared_error\n",
    "from sklearn.metrics import r2_score\n",
    "import plotly.graph_objects as go\n",
    "import plotly.express as px\n",
    "from pandas import Series\n",
    "from statsmodels.tsa.seasonal import seasonal_decompose\n",
    "from statsmodels.tsa.stattools import adfuller\n",
    "from statsmodels.graphics.tsaplots import plot_pacf, plot_acf\n",
    "%matplotlib inline"
   ]
  },
  {
   "cell_type": "code",
   "execution_count": 2,
   "metadata": {},
   "outputs": [
    {
     "name": "stdout",
     "output_type": "stream",
     "text": [
      "/Users/liuyang/Desktop/Springboard_Capstone3/Notebook\n",
      "/Users/liuyang/Desktop/Springboard_Capstone3/Data\n"
     ]
    }
   ],
   "source": [
    "print(os.getcwd())\n",
    "os.chdir('/Users/liuyang/Desktop/Springboard_Capstone3/Data') \n",
    "print(os.getcwd())"
   ]
  },
  {
   "cell_type": "code",
   "execution_count": 3,
   "metadata": {},
   "outputs": [],
   "source": [
    "df = pd.read_csv('train.csv')"
   ]
  },
  {
   "cell_type": "code",
   "execution_count": 6,
   "metadata": {},
   "outputs": [],
   "source": [
    "# me_1 = pd.read_csv('model_eval_1_to_100.csv')\n",
    "# me_2 = pd.read_csv('model_eval_101_to_200.csv')\n",
    "# me_3 = pd.read_csv('model_eval_201_to_300.csv')\n",
    "# me_4 = pd.read_csv('model_eval_301_to_400.csv')\n",
    "# me_5 = pd.read_csv('model_eval_401_to_500.csv')\n",
    "# me_6 =  pd.read_csv('model_eval_501_to_600.csv')\n",
    "# me_7 =  pd.read_csv('model_eval_601_to_700.csv')\n",
    "# me_8 =  pd.read_csv('model_eval_701_to_800.csv')\n",
    "# me_9 =  pd.read_csv('model_eval_801_to_900.csv')\n",
    "# me_10 =pd.read_csv('model_eval_901_to_1000.csv')\n",
    "# me_11 =pd.read_csv('model_eval_1001_to_1100.csv')\n",
    "# me_12 =pd.read_csv('model_eval_1101_to_1115.csv')"
   ]
  },
  {
   "cell_type": "code",
   "execution_count": 23,
   "metadata": {},
   "outputs": [],
   "source": [
    "# me_all = pd.concat([me_1, me_2, me_3, me_4, me_5, me_6, me_7, me_8, me_9, me_10, me_11, me_12], axis=0).reset_index(drop=True)"
   ]
  },
  {
   "cell_type": "code",
   "execution_count": 24,
   "metadata": {},
   "outputs": [],
   "source": [
    "# me_all['Store_id'] = np.arange(1,1116)"
   ]
  },
  {
   "cell_type": "code",
   "execution_count": 26,
   "metadata": {},
   "outputs": [],
   "source": [
    "# # swtich columns\n",
    "# newcolumns =['Store_id', 'MAE_AutoArima', 'WAPE_AutoArima', 'MAE_MeanMethod', 'WAPE_MeanMethod']\n",
    "# me_all = me_all.reindex(columns=newcolumns)"
   ]
  },
  {
   "cell_type": "code",
   "execution_count": 32,
   "metadata": {},
   "outputs": [],
   "source": [
    "# # save file\n",
    "# me_all.to_csv('Model Evaluation for all Stoer.csv', index=False)"
   ]
  },
  {
   "cell_type": "code",
   "execution_count": 33,
   "metadata": {},
   "outputs": [],
   "source": [
    "model_eval = pd.read_csv('Model Evaluation for all Stoer.csv')"
   ]
  },
  {
   "cell_type": "code",
   "execution_count": 35,
   "metadata": {
    "scrolled": true
   },
   "outputs": [
    {
     "data": {
      "text/html": [
       "<div>\n",
       "<style scoped>\n",
       "    .dataframe tbody tr th:only-of-type {\n",
       "        vertical-align: middle;\n",
       "    }\n",
       "\n",
       "    .dataframe tbody tr th {\n",
       "        vertical-align: top;\n",
       "    }\n",
       "\n",
       "    .dataframe thead th {\n",
       "        text-align: right;\n",
       "    }\n",
       "</style>\n",
       "<table border=\"1\" class=\"dataframe\">\n",
       "  <thead>\n",
       "    <tr style=\"text-align: right;\">\n",
       "      <th></th>\n",
       "      <th>Store_id</th>\n",
       "      <th>MAE_AutoArima</th>\n",
       "      <th>WAPE_AutoArima</th>\n",
       "      <th>MAE_MeanMethod</th>\n",
       "      <th>WAPE_MeanMethod</th>\n",
       "    </tr>\n",
       "  </thead>\n",
       "  <tbody>\n",
       "    <tr>\n",
       "      <th>0</th>\n",
       "      <td>1</td>\n",
       "      <td>1666.636158</td>\n",
       "      <td>0.000036</td>\n",
       "      <td>3125.029762</td>\n",
       "      <td>0.000067</td>\n",
       "    </tr>\n",
       "    <tr>\n",
       "      <th>1</th>\n",
       "      <td>2</td>\n",
       "      <td>2980.725542</td>\n",
       "      <td>0.000064</td>\n",
       "      <td>5552.750000</td>\n",
       "      <td>0.000119</td>\n",
       "    </tr>\n",
       "    <tr>\n",
       "      <th>2</th>\n",
       "      <td>3</td>\n",
       "      <td>3225.279324</td>\n",
       "      <td>0.000069</td>\n",
       "      <td>6567.875000</td>\n",
       "      <td>0.000141</td>\n",
       "    </tr>\n",
       "    <tr>\n",
       "      <th>3</th>\n",
       "      <td>4</td>\n",
       "      <td>4297.064194</td>\n",
       "      <td>0.000092</td>\n",
       "      <td>6714.369048</td>\n",
       "      <td>0.000144</td>\n",
       "    </tr>\n",
       "    <tr>\n",
       "      <th>4</th>\n",
       "      <td>5</td>\n",
       "      <td>3485.932482</td>\n",
       "      <td>0.000075</td>\n",
       "      <td>5243.625000</td>\n",
       "      <td>0.000113</td>\n",
       "    </tr>\n",
       "    <tr>\n",
       "      <th>...</th>\n",
       "      <td>...</td>\n",
       "      <td>...</td>\n",
       "      <td>...</td>\n",
       "      <td>...</td>\n",
       "      <td>...</td>\n",
       "    </tr>\n",
       "    <tr>\n",
       "      <th>1110</th>\n",
       "      <td>1111</td>\n",
       "      <td>1542.693553</td>\n",
       "      <td>0.000033</td>\n",
       "      <td>5114.273810</td>\n",
       "      <td>0.000110</td>\n",
       "    </tr>\n",
       "    <tr>\n",
       "      <th>1111</th>\n",
       "      <td>1112</td>\n",
       "      <td>3187.204165</td>\n",
       "      <td>0.000068</td>\n",
       "      <td>10030.482143</td>\n",
       "      <td>0.000215</td>\n",
       "    </tr>\n",
       "    <tr>\n",
       "      <th>1112</th>\n",
       "      <td>1113</td>\n",
       "      <td>3952.001019</td>\n",
       "      <td>0.000085</td>\n",
       "      <td>4846.125000</td>\n",
       "      <td>0.000104</td>\n",
       "    </tr>\n",
       "    <tr>\n",
       "      <th>1113</th>\n",
       "      <td>1114</td>\n",
       "      <td>12413.270595</td>\n",
       "      <td>0.000267</td>\n",
       "      <td>16651.591270</td>\n",
       "      <td>0.000358</td>\n",
       "    </tr>\n",
       "    <tr>\n",
       "      <th>1114</th>\n",
       "      <td>1115</td>\n",
       "      <td>6037.092225</td>\n",
       "      <td>0.000130</td>\n",
       "      <td>6469.400794</td>\n",
       "      <td>0.000139</td>\n",
       "    </tr>\n",
       "  </tbody>\n",
       "</table>\n",
       "<p>1115 rows × 5 columns</p>\n",
       "</div>"
      ],
      "text/plain": [
       "      Store_id  MAE_AutoArima  WAPE_AutoArima  MAE_MeanMethod  WAPE_MeanMethod\n",
       "0            1    1666.636158        0.000036     3125.029762         0.000067\n",
       "1            2    2980.725542        0.000064     5552.750000         0.000119\n",
       "2            3    3225.279324        0.000069     6567.875000         0.000141\n",
       "3            4    4297.064194        0.000092     6714.369048         0.000144\n",
       "4            5    3485.932482        0.000075     5243.625000         0.000113\n",
       "...        ...            ...             ...             ...              ...\n",
       "1110      1111    1542.693553        0.000033     5114.273810         0.000110\n",
       "1111      1112    3187.204165        0.000068    10030.482143         0.000215\n",
       "1112      1113    3952.001019        0.000085     4846.125000         0.000104\n",
       "1113      1114   12413.270595        0.000267    16651.591270         0.000358\n",
       "1114      1115    6037.092225        0.000130     6469.400794         0.000139\n",
       "\n",
       "[1115 rows x 5 columns]"
      ]
     },
     "execution_count": 35,
     "metadata": {},
     "output_type": "execute_result"
    }
   ],
   "source": [
    "model_eval"
   ]
  },
  {
   "cell_type": "code",
   "execution_count": 38,
   "metadata": {},
   "outputs": [
    {
     "data": {
      "image/png": "[encoded data removed]",
      "text/plain": [
       "<Figure size 576x360 with 4 Axes>"
      ]
     },
     "metadata": {
      "needs_background": "light"
     },
     "output_type": "display_data"
    }
   ],
   "source": [
    "# plot evaluation result histogram for all store \n",
    "\n",
    "plt.rcParams['figure.figsize'] = (8, 5)\n",
    "model_eval.drop('Store_id', axis=1).hist()\n",
    "plt.show()"
   ]
  },
  {
   "cell_type": "code",
   "execution_count": 39,
   "metadata": {},
   "outputs": [
    {
     "data": {
      "text/html": [
       "<div>\n",
       "<style scoped>\n",
       "    .dataframe tbody tr th:only-of-type {\n",
       "        vertical-align: middle;\n",
       "    }\n",
       "\n",
       "    .dataframe tbody tr th {\n",
       "        vertical-align: top;\n",
       "    }\n",
       "\n",
       "    .dataframe thead th {\n",
       "        text-align: right;\n",
       "    }\n",
       "</style>\n",
       "<table border=\"1\" class=\"dataframe\">\n",
       "  <thead>\n",
       "    <tr style=\"text-align: right;\">\n",
       "      <th></th>\n",
       "      <th>MAE_AutoArima</th>\n",
       "      <th>WAPE_AutoArima</th>\n",
       "      <th>MAE_MeanMethod</th>\n",
       "      <th>WAPE_MeanMethod</th>\n",
       "    </tr>\n",
       "  </thead>\n",
       "  <tbody>\n",
       "    <tr>\n",
       "      <th>count</th>\n",
       "      <td>1115.000000</td>\n",
       "      <td>1115.000000</td>\n",
       "      <td>1115.000000</td>\n",
       "      <td>1115.000000</td>\n",
       "    </tr>\n",
       "    <tr>\n",
       "      <th>mean</th>\n",
       "      <td>4084.199939</td>\n",
       "      <td>0.000088</td>\n",
       "      <td>7143.064259</td>\n",
       "      <td>0.000153</td>\n",
       "    </tr>\n",
       "    <tr>\n",
       "      <th>std</th>\n",
       "      <td>2026.267425</td>\n",
       "      <td>0.000044</td>\n",
       "      <td>3455.717816</td>\n",
       "      <td>0.000074</td>\n",
       "    </tr>\n",
       "    <tr>\n",
       "      <th>min</th>\n",
       "      <td>700.806205</td>\n",
       "      <td>0.000015</td>\n",
       "      <td>1835.168651</td>\n",
       "      <td>0.000039</td>\n",
       "    </tr>\n",
       "    <tr>\n",
       "      <th>25%</th>\n",
       "      <td>2762.168609</td>\n",
       "      <td>0.000059</td>\n",
       "      <td>5028.680556</td>\n",
       "      <td>0.000108</td>\n",
       "    </tr>\n",
       "    <tr>\n",
       "      <th>50%</th>\n",
       "      <td>3703.111710</td>\n",
       "      <td>0.000080</td>\n",
       "      <td>6458.500000</td>\n",
       "      <td>0.000139</td>\n",
       "    </tr>\n",
       "    <tr>\n",
       "      <th>75%</th>\n",
       "      <td>4996.341265</td>\n",
       "      <td>0.000107</td>\n",
       "      <td>8279.050595</td>\n",
       "      <td>0.000178</td>\n",
       "    </tr>\n",
       "    <tr>\n",
       "      <th>max</th>\n",
       "      <td>28028.290703</td>\n",
       "      <td>0.000602</td>\n",
       "      <td>37089.093254</td>\n",
       "      <td>0.000797</td>\n",
       "    </tr>\n",
       "  </tbody>\n",
       "</table>\n",
       "</div>"
      ],
      "text/plain": [
       "       MAE_AutoArima  WAPE_AutoArima  MAE_MeanMethod  WAPE_MeanMethod\n",
       "count    1115.000000     1115.000000     1115.000000      1115.000000\n",
       "mean     4084.199939        0.000088     7143.064259         0.000153\n",
       "std      2026.267425        0.000044     3455.717816         0.000074\n",
       "min       700.806205        0.000015     1835.168651         0.000039\n",
       "25%      2762.168609        0.000059     5028.680556         0.000108\n",
       "50%      3703.111710        0.000080     6458.500000         0.000139\n",
       "75%      4996.341265        0.000107     8279.050595         0.000178\n",
       "max     28028.290703        0.000602    37089.093254         0.000797"
      ]
     },
     "execution_count": 39,
     "metadata": {},
     "output_type": "execute_result"
    }
   ],
   "source": [
    "model_eval.drop('Store_id', axis=1).describe()"
   ]
  },
  {
   "cell_type": "markdown",
   "metadata": {},
   "source": [
    "### we can see the the result from 1115 stores that auto arima model outperformed mean method overall and in different percentile."
   ]
  },
  {
   "cell_type": "code",
   "execution_count": null,
   "metadata": {},
   "outputs": [],
   "source": []
  }
 ],
 "metadata": {
  "kernelspec": {
   "display_name": "py36",
   "language": "python",
   "name": "py36"
  },
  "language_info": {
   "codemirror_mode": {
    "name": "ipython",
    "version": 3
   },
   "file_extension": ".py",
   "mimetype": "text/x-python",
   "name": "python",
   "nbconvert_exporter": "python",
   "pygments_lexer": "ipython3",
   "version": "3.6.10"
  }
 },
 "nbformat": 4,
 "nbformat_minor": 4
}
