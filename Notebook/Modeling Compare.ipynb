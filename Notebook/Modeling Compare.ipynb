{
 "cells": [
  {
   "cell_type": "markdown",
   "metadata": {},
   "source": [
    "## Pre-explanation:\n",
    "\n",
    "1. In this notebook I used auto arima to predict and forecast the time series.\n",
    "\n",
    "2. As some of the stores were closed for a few months or half year, therefore I compared the model performance by feeding them with different training data:\n",
    "\n",
    "+ Method 1: Used the whole data set and drop the zero values to to do train test split \n",
    "+ Method 2: Separate the whole data to 2 parts with continuing zero value in between them, and use the second part to do train test split.\n",
    "\n",
    "3. Compare R2 and MAE result from Method 1 and Method 2, choose the method with better performance to do the final forecasting\n",
    "\n",
    "Please check the process for me and if it looks okay, in the final notebook I will write class and function to automate the whole comparing process and will add 95% confidence interval to the forecasting result."
   ]
  },
  {
   "cell_type": "code",
   "execution_count": 1,
   "metadata": {},
   "outputs": [],
   "source": [
    "import os\n",
    "import warnings\n",
    "warnings.filterwarnings(\"ignore\")\n",
    "import numpy as np \n",
    "import pandas as pd \n",
    "import matplotlib.pyplot as plt\n",
    "import seaborn as sns\n",
    "sns.set()\n",
    "from pmdarima.arima import auto_arima\n",
    "from sklearn.metrics import mean_absolute_error\n",
    "from sklearn.metrics import r2_score\n",
    "import plotly.graph_objects as go\n",
    "import plotly.express as px\n",
    "from pandas import Series\n",
    "from statsmodels.tsa.seasonal import seasonal_decompose\n",
    "from statsmodels.tsa.stattools import adfuller\n",
    "from statsmodels.graphics.tsaplots import plot_pacf, plot_acf\n",
    "%matplotlib inline"
   ]
  },
  {
   "cell_type": "code",
   "execution_count": 2,
   "metadata": {},
   "outputs": [
    {
     "name": "stdout",
     "output_type": "stream",
     "text": [
      "/Users/liuyang/Desktop/Springboard_Capstone3/Notebook\n",
      "/Users/liuyang/Desktop/Springboard_Capstone3/Data\n"
     ]
    }
   ],
   "source": [
    "print(os.getcwd())\n",
    "os.chdir('/Users/liuyang/Desktop/Springboard_Capstone3/Data') \n",
    "print(os.getcwd())"
   ]
  },
  {
   "cell_type": "code",
   "execution_count": 3,
   "metadata": {},
   "outputs": [],
   "source": [
    "df = pd.read_csv('train.csv')"
   ]
  },
  {
   "cell_type": "code",
   "execution_count": 4,
   "metadata": {},
   "outputs": [
    {
     "data": {
      "text/html": [
       "<div>\n",
       "<style scoped>\n",
       "    .dataframe tbody tr th:only-of-type {\n",
       "        vertical-align: middle;\n",
       "    }\n",
       "\n",
       "    .dataframe tbody tr th {\n",
       "        vertical-align: top;\n",
       "    }\n",
       "\n",
       "    .dataframe thead th {\n",
       "        text-align: right;\n",
       "    }\n",
       "</style>\n",
       "<table border=\"1\" class=\"dataframe\">\n",
       "  <thead>\n",
       "    <tr style=\"text-align: right;\">\n",
       "      <th></th>\n",
       "      <th>Store</th>\n",
       "      <th>DayOfWeek</th>\n",
       "      <th>Date</th>\n",
       "      <th>Sales</th>\n",
       "      <th>Customers</th>\n",
       "      <th>Open</th>\n",
       "      <th>Promo</th>\n",
       "      <th>StateHoliday</th>\n",
       "      <th>SchoolHoliday</th>\n",
       "    </tr>\n",
       "  </thead>\n",
       "  <tbody>\n",
       "    <tr>\n",
       "      <th>0</th>\n",
       "      <td>1</td>\n",
       "      <td>5</td>\n",
       "      <td>2015-07-31</td>\n",
       "      <td>5263</td>\n",
       "      <td>555</td>\n",
       "      <td>1</td>\n",
       "      <td>1</td>\n",
       "      <td>0</td>\n",
       "      <td>1</td>\n",
       "    </tr>\n",
       "    <tr>\n",
       "      <th>1</th>\n",
       "      <td>2</td>\n",
       "      <td>5</td>\n",
       "      <td>2015-07-31</td>\n",
       "      <td>6064</td>\n",
       "      <td>625</td>\n",
       "      <td>1</td>\n",
       "      <td>1</td>\n",
       "      <td>0</td>\n",
       "      <td>1</td>\n",
       "    </tr>\n",
       "    <tr>\n",
       "      <th>2</th>\n",
       "      <td>3</td>\n",
       "      <td>5</td>\n",
       "      <td>2015-07-31</td>\n",
       "      <td>8314</td>\n",
       "      <td>821</td>\n",
       "      <td>1</td>\n",
       "      <td>1</td>\n",
       "      <td>0</td>\n",
       "      <td>1</td>\n",
       "    </tr>\n",
       "    <tr>\n",
       "      <th>3</th>\n",
       "      <td>4</td>\n",
       "      <td>5</td>\n",
       "      <td>2015-07-31</td>\n",
       "      <td>13995</td>\n",
       "      <td>1498</td>\n",
       "      <td>1</td>\n",
       "      <td>1</td>\n",
       "      <td>0</td>\n",
       "      <td>1</td>\n",
       "    </tr>\n",
       "    <tr>\n",
       "      <th>4</th>\n",
       "      <td>5</td>\n",
       "      <td>5</td>\n",
       "      <td>2015-07-31</td>\n",
       "      <td>4822</td>\n",
       "      <td>559</td>\n",
       "      <td>1</td>\n",
       "      <td>1</td>\n",
       "      <td>0</td>\n",
       "      <td>1</td>\n",
       "    </tr>\n",
       "  </tbody>\n",
       "</table>\n",
       "</div>"
      ],
      "text/plain": [
       "   Store  DayOfWeek        Date  Sales  Customers  Open  Promo StateHoliday  \\\n",
       "0      1          5  2015-07-31   5263        555     1      1            0   \n",
       "1      2          5  2015-07-31   6064        625     1      1            0   \n",
       "2      3          5  2015-07-31   8314        821     1      1            0   \n",
       "3      4          5  2015-07-31  13995       1498     1      1            0   \n",
       "4      5          5  2015-07-31   4822        559     1      1            0   \n",
       "\n",
       "   SchoolHoliday  \n",
       "0              1  \n",
       "1              1  \n",
       "2              1  \n",
       "3              1  \n",
       "4              1  "
      ]
     },
     "execution_count": 4,
     "metadata": {},
     "output_type": "execute_result"
    }
   ],
   "source": [
    "df.head()"
   ]
  },
  {
   "cell_type": "code",
   "execution_count": 5,
   "metadata": {},
   "outputs": [],
   "source": [
    "df.Date = pd.to_datetime(df.Date, format='%Y-%m-%d')"
   ]
  },
  {
   "cell_type": "code",
   "execution_count": 6,
   "metadata": {},
   "outputs": [],
   "source": [
    "df = df.sort_values(['Date', 'Store'], ascending=True)"
   ]
  },
  {
   "cell_type": "code",
   "execution_count": 7,
   "metadata": {},
   "outputs": [
    {
     "name": "stdout",
     "output_type": "stream",
     "text": [
      "The shape of storeweeklysales is: (135,)\n"
     ]
    }
   ],
   "source": [
    "storeid=974\n",
    "storedailydata=df.loc[df.Store==storeid]\n",
    "storeweeklysales = storedailydata.set_index('Date').resample('w').Sales.sum()\n",
    "print(f'The shape of storeweeklysales is: {storeweeklysales.shape}')"
   ]
  },
  {
   "cell_type": "code",
   "execution_count": 8,
   "metadata": {},
   "outputs": [
    {
     "data": {
      "image/png": "[encoded data removed]",
      "text/plain": [
       "<Figure size 576x360 with 1 Axes>"
      ]
     },
     "metadata": {
      "needs_background": "light"
     },
     "output_type": "display_data"
    }
   ],
   "source": [
    "plt.rcParams['figure.figsize'] = (8, 5)\n",
    "storeweeklysales.plot()\n",
    "plt.title(f'Store{storeid}', fontsize=15)\n",
    "plt.ylabel('Weekly Sales', fontsize=15)\n",
    "plt.show()"
   ]
  },
  {
   "cell_type": "code",
   "execution_count": 9,
   "metadata": {},
   "outputs": [
    {
     "name": "stdout",
     "output_type": "stream",
     "text": [
      "ADF Statistic: -1.626587\n",
      "p-value: 0.469278\n",
      "Critical Values:\n",
      "\t1%: -3.481\n",
      "\t5%: -2.884\n",
      "\t10%: -2.578\n"
     ]
    }
   ],
   "source": [
    "# check stationarity \n",
    "sta_result = adfuller(storeweeklysales)\n",
    "print('ADF Statistic: %f' % sta_result[0])\n",
    "print('p-value: %f' % sta_result[1])\n",
    "print('Critical Values:')\n",
    "for key, value in sta_result[4].items():\n",
    "    print('\\t%s: %.3f' % (key, value))"
   ]
  },
  {
   "cell_type": "code",
   "execution_count": 10,
   "metadata": {},
   "outputs": [
    {
     "data": {
      "image/png": "[encoded data removed]",
      "text/plain": [
       "<Figure size 720x504 with 2 Axes>"
      ]
     },
     "metadata": {
      "needs_background": "light"
     },
     "output_type": "display_data"
    }
   ],
   "source": [
    "fig, ax = plt.subplots(2,1,figsize=(10,7))\n",
    "plot_acf(storeweeklysales, lags=50, ax=ax[0])\n",
    "# ax[0].axvline(12, color='red', ls='--', alpha=0.8, lw=0.7, label='lag = 12')\n",
    "# ax[0].axvline(24, color='orange', ls='--', alpha=1, lw=0.8, label='lag = 24')\n",
    "#ax[0].legend()\n",
    "plot_pacf(storeweeklysales, lags=50, ax=ax[1])\n",
    "plt.tight_layout()"
   ]
  },
  {
   "cell_type": "markdown",
   "metadata": {},
   "source": [
    "# Method 1: Use the whole data set to train model. \n",
    "1) When there's no zero value in the data set use the whole dataset to do train test split.\n",
    "\n",
    "2) When there's zero value in the data set, drop it and use the non-zero value to do train test split. "
   ]
  },
  {
   "cell_type": "code",
   "execution_count": 11,
   "metadata": {},
   "outputs": [],
   "source": [
    "storeweeklysales = storeweeklysales[storeweeklysales!=0]\n",
    "\n",
    "# when there's zero value, the data set will shrink, \n",
    "# when there's no zero value, data set will stay the same shape"
   ]
  },
  {
   "cell_type": "code",
   "execution_count": 12,
   "metadata": {},
   "outputs": [],
   "source": [
    "# storeweeklysales.plot()\n",
    "# plt.show()"
   ]
  },
  {
   "cell_type": "code",
   "execution_count": 13,
   "metadata": {},
   "outputs": [
    {
     "name": "stdout",
     "output_type": "stream",
     "text": [
      "The shape of storeweeklysales is (110,)\n",
      "Train set start from 2013-01-06 00:00:00 week,\n",
      "ends at 2015-05-31 00:00:00 week\n",
      "Test set start from 2015-06-07 00:00:00 week,\n",
      "ends at 2015-07-26 00:00:00 week\n"
     ]
    }
   ],
   "source": [
    "train = storeweeklysales[:-9]\n",
    "test = storeweeklysales[-9:-1]\n",
    "print(f'The shape of storeweeklysales is {storeweeklysales.shape}')\n",
    "print(f'Train set start from {train.index[0]} week,\\nends at {train.index[-1]} week')\n",
    "print(f'Test set start from {test.index[0]} week,\\nends at {test.index[-1]} week')"
   ]
  },
  {
   "cell_type": "code",
   "execution_count": 14,
   "metadata": {},
   "outputs": [
    {
     "data": {
      "image/png": "[encoded data removed]",
      "text/plain": [
       "<Figure size 576x360 with 1 Axes>"
      ]
     },
     "metadata": {
      "needs_background": "light"
     },
     "output_type": "display_data"
    }
   ],
   "source": [
    "train.plot(label='Training')\n",
    "test.plot(label='Testing')\n",
    "plt.ylabel('Weekly Sales', fontsize=15)\n",
    "plt.title(f'Store{storeid}',fontsize=15)\n",
    "plt.legend()\n",
    "plt.show()"
   ]
  },
  {
   "cell_type": "code",
   "execution_count": 15,
   "metadata": {},
   "outputs": [
    {
     "name": "stdout",
     "output_type": "stream",
     "text": [
      "R2 for SARIMA model: 0.103\n",
      "MAE for SARIMA model: 6207.1\n"
     ]
    }
   ],
   "source": [
    "warnings.filterwarnings(\"ignore\")\n",
    "\n",
    "arima_model =  auto_arima(train,start_p=0, d=0, start_q=0, \n",
    "                          max_p=5, max_d=5, max_q=5, start_P=0, \n",
    "                          D=1, start_Q=0, max_P=5, max_D=5,\n",
    "                          max_Q=5, m=2, seasonal=True, \n",
    "                          error_action='warn',trace = False,\n",
    "                          supress_warnings=True,stepwise = False,\n",
    "                          random=True,\n",
    "                          random_state=20, n_fits=50)\n",
    "\n",
    "predictions = pd.DataFrame(arima_model.predict(n_periods=8), index=test.index)\n",
    "#predictions_ci = arima_model.get_forecast(steps=7).conf_int()\n",
    "true_values = test.values\n",
    "mae = mean_absolute_error(true_values, predictions)\n",
    "R2 = r2_score(true_values, predictions)\n",
    "\n",
    "print('R2 for SARIMA model: {0:.3f}'.format(R2))\n",
    "print('MAE for SARIMA model: {0:.1f}'.format(mae))                         "
   ]
  },
  {
   "cell_type": "code",
   "execution_count": 16,
   "metadata": {},
   "outputs": [
    {
     "data": {
      "text/plain": [
       "DatetimeIndex(['2015-08-02', '2015-08-09', '2015-08-16', '2015-08-23',\n",
       "               '2015-08-30', '2015-09-06', '2015-09-13', '2015-09-20'],\n",
       "              dtype='datetime64[ns]', freq='W-SUN')"
      ]
     },
     "execution_count": 16,
     "metadata": {},
     "output_type": "execute_result"
    }
   ],
   "source": [
    "# create data index for forecasting value from week 2015-08-02 to week 2015-09-20\n",
    "forecastindex = pd.date_range('2015-07-27', '2015-09-20', freq='W')\n",
    "forecastindex"
   ]
  },
  {
   "cell_type": "code",
   "execution_count": 17,
   "metadata": {},
   "outputs": [],
   "source": [
    "arima_model = auto_arima(storeweeklysales[:test.index[-1]],start_p=0, d=0, start_q=0, \n",
    "                          max_p=5, max_d=5, max_q=5, start_P=0, \n",
    "                          D=1, start_Q=0, max_P=5, max_D=5,\n",
    "                          max_Q=5, m=2, seasonal=True, \n",
    "                          error_action='warn',trace = False,\n",
    "                          supress_warnings=True,stepwise = False,\n",
    "                          random=True,\n",
    "                          random_state=20, n_fits=50)\n",
    "\n",
    "\n",
    "forecast, CI = arima_model.predict(n_periods=8, return_conf_int=True,alpha=0.05)\n",
    "\n",
    "# forecast = pd.DataFrame(forecast, index=forecastindex)\n"
   ]
  },
  {
   "cell_type": "code",
   "execution_count": 18,
   "metadata": {},
   "outputs": [
    {
     "data": {
      "text/html": [
       "<div>\n",
       "<style scoped>\n",
       "    .dataframe tbody tr th:only-of-type {\n",
       "        vertical-align: middle;\n",
       "    }\n",
       "\n",
       "    .dataframe tbody tr th {\n",
       "        vertical-align: top;\n",
       "    }\n",
       "\n",
       "    .dataframe thead th {\n",
       "        text-align: right;\n",
       "    }\n",
       "</style>\n",
       "<table border=\"1\" class=\"dataframe\">\n",
       "  <thead>\n",
       "    <tr style=\"text-align: right;\">\n",
       "      <th></th>\n",
       "      <th>Forecast</th>\n",
       "      <th>lower CI</th>\n",
       "      <th>upper CI</th>\n",
       "    </tr>\n",
       "  </thead>\n",
       "  <tbody>\n",
       "    <tr>\n",
       "      <th>2015-08-02</th>\n",
       "      <td>74756.398208</td>\n",
       "      <td>48021.771891</td>\n",
       "      <td>101491.024526</td>\n",
       "    </tr>\n",
       "    <tr>\n",
       "      <th>2015-08-09</th>\n",
       "      <td>69103.593082</td>\n",
       "      <td>41717.077635</td>\n",
       "      <td>96490.108529</td>\n",
       "    </tr>\n",
       "    <tr>\n",
       "      <th>2015-08-16</th>\n",
       "      <td>73975.700867</td>\n",
       "      <td>43925.167018</td>\n",
       "      <td>104026.234717</td>\n",
       "    </tr>\n",
       "    <tr>\n",
       "      <th>2015-08-23</th>\n",
       "      <td>70941.916022</td>\n",
       "      <td>40768.944435</td>\n",
       "      <td>101114.887609</td>\n",
       "    </tr>\n",
       "    <tr>\n",
       "      <th>2015-08-30</th>\n",
       "      <td>73619.580701</td>\n",
       "      <td>42405.211613</td>\n",
       "      <td>104833.949789</td>\n",
       "    </tr>\n",
       "    <tr>\n",
       "      <th>2015-09-06</th>\n",
       "      <td>72162.935165</td>\n",
       "      <td>40902.331022</td>\n",
       "      <td>103423.539308</td>\n",
       "    </tr>\n",
       "    <tr>\n",
       "      <th>2015-09-13</th>\n",
       "      <td>73597.282528</td>\n",
       "      <td>41940.900416</td>\n",
       "      <td>105253.664640</td>\n",
       "    </tr>\n",
       "    <tr>\n",
       "      <th>2015-09-20</th>\n",
       "      <td>72975.259957</td>\n",
       "      <td>41304.471973</td>\n",
       "      <td>104646.047942</td>\n",
       "    </tr>\n",
       "  </tbody>\n",
       "</table>\n",
       "</div>"
      ],
      "text/plain": [
       "                Forecast      lower CI       upper CI\n",
       "2015-08-02  74756.398208  48021.771891  101491.024526\n",
       "2015-08-09  69103.593082  41717.077635   96490.108529\n",
       "2015-08-16  73975.700867  43925.167018  104026.234717\n",
       "2015-08-23  70941.916022  40768.944435  101114.887609\n",
       "2015-08-30  73619.580701  42405.211613  104833.949789\n",
       "2015-09-06  72162.935165  40902.331022  103423.539308\n",
       "2015-09-13  73597.282528  41940.900416  105253.664640\n",
       "2015-09-20  72975.259957  41304.471973  104646.047942"
      ]
     },
     "execution_count": 18,
     "metadata": {},
     "output_type": "execute_result"
    }
   ],
   "source": [
    "pd.DataFrame([forecast, CI[:,0], CI[:,1]], index=['Forecast', 'lower CI', 'upper CI']).T.set_index(forecastindex)"
   ]
  },
  {
   "cell_type": "code",
   "execution_count": 19,
   "metadata": {},
   "outputs": [
    {
     "data": {
      "image/png": "[encoded data removed]",
      "text/plain": [
       "<Figure size 576x360 with 1 Axes>"
      ]
     },
     "metadata": {
      "needs_background": "light"
     },
     "output_type": "display_data"
    }
   ],
   "source": [
    "plt.plot(train,label=\"Training\")\n",
    "plt.plot(test,label=\"Testing\")\n",
    "#plt.plot(storeweeklysales, label='full')\n",
    "#plt.plot(test,label=\"Test\")\n",
    "plt.plot(predictions, label=\"Prediction\")\n",
    "plt.plot(forecastindex, forecast,label=\"Forecast\")\n",
    "plt.fill_between(forecastindex, CI[:,0], CI[:,1]\n",
    "                ,color='k', alpha=0.2)\n",
    "plt.title(f'Store {storeid}', fontsize=15)\n",
    "plt.ylabel('Sales', fontsize=15)\n",
    "plt.legend(loc = 'upper center')\n",
    "plt.show()"
   ]
  },
  {
   "cell_type": "markdown",
   "metadata": {},
   "source": [
    "# Method 2: When there's continuing zero value in the data set, separate the data set to 2 parts with continuing zero value in between them, and use the second part to do train test split"
   ]
  },
  {
   "cell_type": "code",
   "execution_count": 20,
   "metadata": {},
   "outputs": [],
   "source": [
    "storedailydata=df.loc[df.Store==storeid]\n",
    "storeweeklysales = storedailydata.set_index('Date').resample('w').Sales.sum()"
   ]
  },
  {
   "cell_type": "code",
   "execution_count": 21,
   "metadata": {},
   "outputs": [
    {
     "data": {
      "text/plain": [
       "<matplotlib.axes._subplots.AxesSubplot at 0x7fba46e99898>"
      ]
     },
     "execution_count": 21,
     "metadata": {},
     "output_type": "execute_result"
    },
    {
     "data": {
      "image/png": "[encoded data removed]",
      "text/plain": [
       "<Figure size 576x360 with 1 Axes>"
      ]
     },
     "metadata": {
      "needs_background": "light"
     },
     "output_type": "display_data"
    }
   ],
   "source": [
    "storeweeklysales.plot()"
   ]
  },
  {
   "cell_type": "code",
   "execution_count": 22,
   "metadata": {},
   "outputs": [],
   "source": [
    "from sys import exit\n",
    "\n",
    "# if there's zero weekly sales in the data set, \n",
    "# filter out the index(week date) of the last week that has zero sales, \n",
    "# and our training set should start from the week after it\n",
    "if len(storeweeklysales[(storeweeklysales == 0)].index) != 0:\n",
    "    train_startdate = storeweeklysales.loc[storeweeklysales[(storeweeklysales == 0)].index[-1]:].index[1]\n",
    "\n",
    "\n",
    "else:\n",
    "    print('There is no zero value in the data set')\n",
    "    exit()"
   ]
  },
  {
   "cell_type": "code",
   "execution_count": 23,
   "metadata": {},
   "outputs": [],
   "source": [
    "from sys import exit\n",
    "\n",
    "if len(storeweeklysales.loc[train_startdate:]) >=11:\n",
    "    train_enddate = len(storeweeklysales.loc[train_startdate:])-9\n",
    "    train = storeweeklysales.loc[train_startdate:][:train_enddate]\n",
    "    test = storeweeklysales.loc[train_startdate:][train_enddate:-1]\n",
    "else:\n",
    "    print('Test set does not have enough datas')\n",
    "    exit()\n",
    "# if the training set is too short to do 8 weeks prediction (and forecasting) \n",
    "# then we will go back to the first methd which is use the whole data set and drop the zero values"
   ]
  },
  {
   "cell_type": "code",
   "execution_count": 24,
   "metadata": {},
   "outputs": [
    {
     "name": "stdout",
     "output_type": "stream",
     "text": [
      "Train set start from week 2015-01-04 00:00:00,\n",
      "ends at week 2015-05-31 00:00:00\n",
      "Test set start from week 2015-06-07 00:00:00,\n",
      "ends at week 2015-07-26 00:00:00\n"
     ]
    }
   ],
   "source": [
    "print(f'Train set start from week {train.index[0]},\\nends at week {train.index[-1]}')\n",
    "print(f'Test set start from week {test.index[0]},\\nends at week {test.index[-1]}')"
   ]
  },
  {
   "cell_type": "code",
   "execution_count": 25,
   "metadata": {},
   "outputs": [
    {
     "data": {
      "image/png": "[encoded data removed]",
      "text/plain": [
       "<Figure size 576x360 with 1 Axes>"
      ]
     },
     "metadata": {
      "needs_background": "light"
     },
     "output_type": "display_data"
    }
   ],
   "source": [
    "train.plot(label='Training')\n",
    "test.plot(label='Testing')\n",
    "plt.ylabel('Weekly Sales', fontsize=15)\n",
    "plt.title(f'Store{storeid}',fontsize=15)\n",
    "plt.legend()\n",
    "plt.show()"
   ]
  },
  {
   "cell_type": "code",
   "execution_count": 26,
   "metadata": {},
   "outputs": [
    {
     "data": {
      "text/plain": [
       "DatetimeIndex(['2015-08-02', '2015-08-09', '2015-08-16', '2015-08-23',\n",
       "               '2015-08-30', '2015-09-06', '2015-09-13', '2015-09-20'],\n",
       "              dtype='datetime64[ns]', freq='W-SUN')"
      ]
     },
     "execution_count": 26,
     "metadata": {},
     "output_type": "execute_result"
    }
   ],
   "source": [
    "forecastindex = pd.date_range('2015-07-27', '2015-09-20', freq='W')\n",
    "forecastindex"
   ]
  },
  {
   "cell_type": "code",
   "execution_count": 27,
   "metadata": {},
   "outputs": [
    {
     "name": "stdout",
     "output_type": "stream",
     "text": [
      "R2 for SARIMA model: 0.392\n",
      "MAE for SARIMA model: 5019.5\n"
     ]
    }
   ],
   "source": [
    "warnings.filterwarnings(\"ignore\")\n",
    "arima_model =  auto_arima(train,start_p=0, d=0, start_q=0, \n",
    "                          max_p=5, max_d=5, max_q=5, start_P=0, \n",
    "                          D=1, start_Q=0, max_P=5, max_D=5,\n",
    "                          max_Q=5, m=2, seasonal=True, \n",
    "                          error_action='warn',trace = False,\n",
    "                          supress_warnings=True,stepwise = False,\n",
    "                          random=True,\n",
    "                          random_state=20, n_fits=50)\n",
    "\n",
    "predictions = pd.DataFrame(arima_model.predict(n_periods=8), index=test.index)\n",
    "#predictions_ci = arima_model.get_forecast(steps=7).conf_int()\n",
    "true_values = test.values\n",
    "mae = mean_absolute_error(true_values, predictions)\n",
    "R2 = r2_score(true_values, predictions)\n",
    "\n",
    "print('R2 for SARIMA model: {0:.3f}'.format(R2))\n",
    "print('MAE for SARIMA model: {0:.1f}'.format(mae))                     "
   ]
  },
  {
   "cell_type": "code",
   "execution_count": 28,
   "metadata": {},
   "outputs": [
    {
     "data": {
      "text/html": [
       "<div>\n",
       "<style scoped>\n",
       "    .dataframe tbody tr th:only-of-type {\n",
       "        vertical-align: middle;\n",
       "    }\n",
       "\n",
       "    .dataframe tbody tr th {\n",
       "        vertical-align: top;\n",
       "    }\n",
       "\n",
       "    .dataframe thead th {\n",
       "        text-align: right;\n",
       "    }\n",
       "</style>\n",
       "<table border=\"1\" class=\"dataframe\">\n",
       "  <thead>\n",
       "    <tr style=\"text-align: right;\">\n",
       "      <th></th>\n",
       "      <th>MAE</th>\n",
       "      <th>R2</th>\n",
       "    </tr>\n",
       "  </thead>\n",
       "  <tbody>\n",
       "    <tr>\n",
       "      <th>974</th>\n",
       "      <td>5019.465124</td>\n",
       "      <td>0.391567</td>\n",
       "    </tr>\n",
       "  </tbody>\n",
       "</table>\n",
       "</div>"
      ],
      "text/plain": [
       "             MAE        R2\n",
       "974  5019.465124  0.391567"
      ]
     },
     "execution_count": 28,
     "metadata": {},
     "output_type": "execute_result"
    }
   ],
   "source": [
    "pd.DataFrame([mae, R2], index=['MAE', 'R2'], columns=[storeid]).T"
   ]
  },
  {
   "cell_type": "code",
   "execution_count": 29,
   "metadata": {},
   "outputs": [
    {
     "data": {
      "text/html": [
       "<div>\n",
       "<style scoped>\n",
       "    .dataframe tbody tr th:only-of-type {\n",
       "        vertical-align: middle;\n",
       "    }\n",
       "\n",
       "    .dataframe tbody tr th {\n",
       "        vertical-align: top;\n",
       "    }\n",
       "\n",
       "    .dataframe thead th {\n",
       "        text-align: right;\n",
       "    }\n",
       "</style>\n",
       "<table border=\"1\" class=\"dataframe\">\n",
       "  <thead>\n",
       "    <tr style=\"text-align: right;\">\n",
       "      <th></th>\n",
       "      <th>Forecast</th>\n",
       "      <th>lower CI</th>\n",
       "      <th>upper CI</th>\n",
       "    </tr>\n",
       "  </thead>\n",
       "  <tbody>\n",
       "    <tr>\n",
       "      <th>2015-08-02</th>\n",
       "      <td>79704.452455</td>\n",
       "      <td>57580.615637</td>\n",
       "      <td>101828.289273</td>\n",
       "    </tr>\n",
       "    <tr>\n",
       "      <th>2015-08-09</th>\n",
       "      <td>70675.979993</td>\n",
       "      <td>46627.963026</td>\n",
       "      <td>94723.996959</td>\n",
       "    </tr>\n",
       "    <tr>\n",
       "      <th>2015-08-16</th>\n",
       "      <td>82777.066404</td>\n",
       "      <td>52584.779740</td>\n",
       "      <td>112969.353068</td>\n",
       "    </tr>\n",
       "    <tr>\n",
       "      <th>2015-08-23</th>\n",
       "      <td>75436.329647</td>\n",
       "      <td>44262.037857</td>\n",
       "      <td>106610.621437</td>\n",
       "    </tr>\n",
       "    <tr>\n",
       "      <th>2015-08-30</th>\n",
       "      <td>85809.496033</td>\n",
       "      <td>51116.009350</td>\n",
       "      <td>120502.982716</td>\n",
       "    </tr>\n",
       "    <tr>\n",
       "      <th>2015-09-06</th>\n",
       "      <td>79802.187695</td>\n",
       "      <td>44512.136720</td>\n",
       "      <td>115092.238671</td>\n",
       "    </tr>\n",
       "    <tr>\n",
       "      <th>2015-09-13</th>\n",
       "      <td>88813.318780</td>\n",
       "      <td>51277.867458</td>\n",
       "      <td>126348.770101</td>\n",
       "    </tr>\n",
       "    <tr>\n",
       "      <th>2015-09-20</th>\n",
       "      <td>83857.087200</td>\n",
       "      <td>45932.906995</td>\n",
       "      <td>121781.267405</td>\n",
       "    </tr>\n",
       "  </tbody>\n",
       "</table>\n",
       "</div>"
      ],
      "text/plain": [
       "                Forecast      lower CI       upper CI\n",
       "2015-08-02  79704.452455  57580.615637  101828.289273\n",
       "2015-08-09  70675.979993  46627.963026   94723.996959\n",
       "2015-08-16  82777.066404  52584.779740  112969.353068\n",
       "2015-08-23  75436.329647  44262.037857  106610.621437\n",
       "2015-08-30  85809.496033  51116.009350  120502.982716\n",
       "2015-09-06  79802.187695  44512.136720  115092.238671\n",
       "2015-09-13  88813.318780  51277.867458  126348.770101\n",
       "2015-09-20  83857.087200  45932.906995  121781.267405"
      ]
     },
     "execution_count": 29,
     "metadata": {},
     "output_type": "execute_result"
    }
   ],
   "source": [
    "arima_model = auto_arima(storeweeklysales.loc[train_startdate:test.index[-1]],start_p=0, d=0, start_q=0, \n",
    "                          max_p=5, max_d=5, max_q=5, start_P=0, \n",
    "                          D=1, start_Q=0, max_P=5, max_D=5,\n",
    "                          max_Q=5, m=2, seasonal=True, \n",
    "                          error_action='warn',trace = False,\n",
    "                          supress_warnings=True,stepwise = False,\n",
    "                          random=True,\n",
    "                          random_state=20, n_fits=50)\n",
    "\n",
    "\n",
    "forecast, CI = arima_model.predict(n_periods=8, return_conf_int=True,alpha=0.05)\n",
    "pd.DataFrame([forecast, CI[:,0], CI[:,1]], index=['Forecast', 'lower CI', 'upper CI']).T.set_index(forecastindex)"
   ]
  },
  {
   "cell_type": "code",
   "execution_count": 30,
   "metadata": {},
   "outputs": [
    {
     "data": {
      "image/png": "[encoded data removed]",
      "text/plain": [
       "<Figure size 576x360 with 1 Axes>"
      ]
     },
     "metadata": {
      "needs_background": "light"
     },
     "output_type": "display_data"
    }
   ],
   "source": [
    "plt.plot(train,label=\"Training\")\n",
    "plt.plot(test,label=\"Testing\")\n",
    "#plt.plot(test,label=\"Test\")\n",
    "plt.plot(predictions, label=\"Prediction\")\n",
    "plt.plot(forecastindex, forecast,label=\"Forecast\")\n",
    "plt.fill_between(forecastindex, CI[:,0], CI[:,1]\n",
    "                ,color='k', alpha=0.2)\n",
    "plt.title(f'Store {storeid}')\n",
    "plt.legend(loc = 'upper center')\n",
    "plt.show()"
   ]
  },
  {
   "cell_type": "markdown",
   "metadata": {},
   "source": [
    "Compare the metrics of method1 and method2, choose the one with the best result to be the final model to do forecasting for the future 7 weeks :\n",
    "2015-08-02', '2015-08-09', '2015-08-16', '2015-08-23',2015-08-30', '2015-09-06', '2015-09-13', '2015-09-20'"
   ]
  },
  {
   "cell_type": "markdown",
   "metadata": {},
   "source": [
    "In the case of store 186, as method 2 generated better R2 and MAE than method 1, so we wil use method 2 to do forecasting"
   ]
  },
  {
   "cell_type": "markdown",
   "metadata": {},
   "source": [
    "## Question:\n",
    "\n",
    "1. After exploring these 2 methods with different store data, I realized some store's weekly sales data are white noise as there's no auto correlation found in their acf and pacf plot. (For example store 262) \n",
    "So my question is for white noise data, is calculating the average of the previous lags the best way to forecast the future value?\n",
    "\n",
    "2. Shall I start adding exogenous variables to improve the model performance"
   ]
  },
  {
   "cell_type": "markdown",
   "metadata": {},
   "source": [
    "## Process the steps above by importing class: modelingclass"
   ]
  },
  {
   "cell_type": "code",
   "execution_count": 47,
   "metadata": {},
   "outputs": [],
   "source": [
    "import sys\n",
    "# insert at 1, 0 is the script path (or '' in REPL)\n",
    "sys.path.insert(1, '/Users/liuyang/Desktop/Springboard_Capstone3/notebook')\n",
    "import modelingclass"
   ]
  },
  {
   "cell_type": "code",
   "execution_count": 48,
   "metadata": {},
   "outputs": [],
   "source": [
    "from modelingclass import modeling"
   ]
  },
  {
   "cell_type": "code",
   "execution_count": 49,
   "metadata": {},
   "outputs": [],
   "source": [
    "ndf = pd.read_csv('train.csv')\n",
    "ndf.Date = pd.to_datetime(ndf.Date, format='%Y-%m-%d')"
   ]
  },
  {
   "cell_type": "markdown",
   "metadata": {},
   "source": [
    "## Get Prediction Performance"
   ]
  },
  {
   "cell_type": "code",
   "execution_count": 50,
   "metadata": {
    "scrolled": true
   },
   "outputs": [
    {
     "data": {
      "text/html": [
       "<div>\n",
       "<style scoped>\n",
       "    .dataframe tbody tr th:only-of-type {\n",
       "        vertical-align: middle;\n",
       "    }\n",
       "\n",
       "    .dataframe tbody tr th {\n",
       "        vertical-align: top;\n",
       "    }\n",
       "\n",
       "    .dataframe thead th {\n",
       "        text-align: right;\n",
       "    }\n",
       "</style>\n",
       "<table border=\"1\" class=\"dataframe\">\n",
       "  <thead>\n",
       "    <tr style=\"text-align: right;\">\n",
       "      <th></th>\n",
       "      <th>MAE</th>\n",
       "      <th>R2</th>\n",
       "    </tr>\n",
       "  </thead>\n",
       "  <tbody>\n",
       "    <tr>\n",
       "      <th>974</th>\n",
       "      <td>5019.465124</td>\n",
       "      <td>0.391567</td>\n",
       "    </tr>\n",
       "  </tbody>\n",
       "</table>\n",
       "</div>"
      ],
      "text/plain": [
       "             MAE        R2\n",
       "974  5019.465124  0.391567"
      ]
     },
     "execution_count": 50,
     "metadata": {},
     "output_type": "execute_result"
    }
   ],
   "source": [
    "modeling(ndf, 974).predict()"
   ]
  },
  {
   "cell_type": "code",
   "execution_count": 35,
   "metadata": {},
   "outputs": [],
   "source": [
    "# Loop to do all store:\n",
    "# for i in [1,2,3]:\n",
    "#     print(modeling(ndf, i).predict())"
   ]
  },
  {
   "cell_type": "markdown",
   "metadata": {},
   "source": [
    "## Get Forecast Result"
   ]
  },
  {
   "cell_type": "code",
   "execution_count": 52,
   "metadata": {
    "scrolled": false
   },
   "outputs": [
    {
     "data": {
      "text/html": [
       "<div>\n",
       "<style scoped>\n",
       "    .dataframe tbody tr th:only-of-type {\n",
       "        vertical-align: middle;\n",
       "    }\n",
       "\n",
       "    .dataframe tbody tr th {\n",
       "        vertical-align: top;\n",
       "    }\n",
       "\n",
       "    .dataframe thead th {\n",
       "        text-align: right;\n",
       "    }\n",
       "</style>\n",
       "<table border=\"1\" class=\"dataframe\">\n",
       "  <thead>\n",
       "    <tr style=\"text-align: right;\">\n",
       "      <th></th>\n",
       "      <th>Forecast</th>\n",
       "      <th>lower CI</th>\n",
       "      <th>upper CI</th>\n",
       "      <th>Previous 8 Weeks</th>\n",
       "    </tr>\n",
       "  </thead>\n",
       "  <tbody>\n",
       "    <tr>\n",
       "      <th>2015-08-02</th>\n",
       "      <td>79704.452455</td>\n",
       "      <td>57580.615637</td>\n",
       "      <td>101828.289273</td>\n",
       "      <td>67408.0</td>\n",
       "    </tr>\n",
       "    <tr>\n",
       "      <th>2015-08-09</th>\n",
       "      <td>70675.979993</td>\n",
       "      <td>46627.963026</td>\n",
       "      <td>94723.996959</td>\n",
       "      <td>66482.0</td>\n",
       "    </tr>\n",
       "    <tr>\n",
       "      <th>2015-08-16</th>\n",
       "      <td>82777.066404</td>\n",
       "      <td>52584.779740</td>\n",
       "      <td>112969.353068</td>\n",
       "      <td>80004.0</td>\n",
       "    </tr>\n",
       "    <tr>\n",
       "      <th>2015-08-23</th>\n",
       "      <td>75436.329647</td>\n",
       "      <td>44262.037857</td>\n",
       "      <td>106610.621437</td>\n",
       "      <td>64590.0</td>\n",
       "    </tr>\n",
       "    <tr>\n",
       "      <th>2015-08-30</th>\n",
       "      <td>85809.496033</td>\n",
       "      <td>51116.009350</td>\n",
       "      <td>120502.982716</td>\n",
       "      <td>83333.0</td>\n",
       "    </tr>\n",
       "    <tr>\n",
       "      <th>2015-09-06</th>\n",
       "      <td>79802.187695</td>\n",
       "      <td>44512.136720</td>\n",
       "      <td>115092.238671</td>\n",
       "      <td>64515.0</td>\n",
       "    </tr>\n",
       "    <tr>\n",
       "      <th>2015-09-13</th>\n",
       "      <td>88813.318780</td>\n",
       "      <td>51277.867458</td>\n",
       "      <td>126348.770101</td>\n",
       "      <td>77855.0</td>\n",
       "    </tr>\n",
       "    <tr>\n",
       "      <th>2015-09-20</th>\n",
       "      <td>83857.087200</td>\n",
       "      <td>45932.906995</td>\n",
       "      <td>121781.267405</td>\n",
       "      <td>65400.0</td>\n",
       "    </tr>\n",
       "  </tbody>\n",
       "</table>\n",
       "</div>"
      ],
      "text/plain": [
       "                Forecast      lower CI       upper CI  Previous 8 Weeks\n",
       "2015-08-02  79704.452455  57580.615637  101828.289273           67408.0\n",
       "2015-08-09  70675.979993  46627.963026   94723.996959           66482.0\n",
       "2015-08-16  82777.066404  52584.779740  112969.353068           80004.0\n",
       "2015-08-23  75436.329647  44262.037857  106610.621437           64590.0\n",
       "2015-08-30  85809.496033  51116.009350  120502.982716           83333.0\n",
       "2015-09-06  79802.187695  44512.136720  115092.238671           64515.0\n",
       "2015-09-13  88813.318780  51277.867458  126348.770101           77855.0\n",
       "2015-09-20  83857.087200  45932.906995  121781.267405           65400.0"
      ]
     },
     "execution_count": 52,
     "metadata": {},
     "output_type": "execute_result"
    }
   ],
   "source": [
    "webresult = modeling(ndf, 974).forecast('2015-07-27', '2015-09-20')\n",
    "\n",
    "webresult"
   ]
  },
  {
   "cell_type": "code",
   "execution_count": 53,
   "metadata": {},
   "outputs": [
    {
     "data": {
      "text/plain": [
       "Date\n",
       "2015-06-07    67408\n",
       "2015-06-14    66482\n",
       "2015-06-21    80004\n",
       "2015-06-28    64590\n",
       "2015-07-05    83333\n",
       "2015-07-12    64515\n",
       "2015-07-19    77855\n",
       "2015-07-26    65400\n",
       "Freq: W-SUN, Name: Sales, dtype: int64"
      ]
     },
     "execution_count": 53,
     "metadata": {},
     "output_type": "execute_result"
    }
   ],
   "source": [
    "test"
   ]
  },
  {
   "cell_type": "code",
   "execution_count": 54,
   "metadata": {},
   "outputs": [
    {
     "data": {
      "text/plain": [
       "Date\n",
       "2015-06-07    67408\n",
       "2015-06-14    66482\n",
       "2015-06-21    80004\n",
       "2015-06-28    64590\n",
       "2015-07-05    83333\n",
       "2015-07-12    64515\n",
       "2015-07-19    77855\n",
       "2015-07-26    65400\n",
       "Freq: W-SUN, Name: Sales, dtype: int64"
      ]
     },
     "execution_count": 54,
     "metadata": {},
     "output_type": "execute_result"
    }
   ],
   "source": [
    "storeweeklysales[-9:-1]"
   ]
  },
  {
   "cell_type": "code",
   "execution_count": 39,
   "metadata": {},
   "outputs": [],
   "source": [
    "# webresult2 = modeling(ndf, 972).forecast('2015-07-27', '2015-09-20')\n",
    "# webresult2"
   ]
  },
  {
   "cell_type": "code",
   "execution_count": 40,
   "metadata": {
    "scrolled": false
   },
   "outputs": [
    {
     "data": {
      "text/html": [
       "<div>\n",
       "<style scoped>\n",
       "    .dataframe tbody tr th:only-of-type {\n",
       "        vertical-align: middle;\n",
       "    }\n",
       "\n",
       "    .dataframe tbody tr th {\n",
       "        vertical-align: top;\n",
       "    }\n",
       "\n",
       "    .dataframe thead th {\n",
       "        text-align: right;\n",
       "    }\n",
       "</style>\n",
       "<table border=\"1\" class=\"dataframe\">\n",
       "  <thead>\n",
       "    <tr style=\"text-align: right;\">\n",
       "      <th></th>\n",
       "      <th>Store</th>\n",
       "      <th>Customers</th>\n",
       "      <th>DayOfWeek</th>\n",
       "      <th>Open</th>\n",
       "      <th>Promo</th>\n",
       "      <th>Sales</th>\n",
       "      <th>SchoolHoliday</th>\n",
       "      <th>StateHoliday</th>\n",
       "      <th>AverageDailySales</th>\n",
       "      <th>AverageDailyCustomer</th>\n",
       "      <th>SalesPerCustomer</th>\n",
       "      <th>StoreType</th>\n",
       "      <th>Assortment</th>\n",
       "      <th>CompetitionDistance</th>\n",
       "      <th>CompetitionOpenSinceMonth</th>\n",
       "      <th>CompetitionOpenSinceYear</th>\n",
       "      <th>Promo2</th>\n",
       "      <th>Promo2SinceWeek</th>\n",
       "      <th>Promo2SinceYear</th>\n",
       "      <th>PromoInterval</th>\n",
       "    </tr>\n",
       "  </thead>\n",
       "  <tbody>\n",
       "    <tr>\n",
       "      <th>908</th>\n",
       "      <td>909</td>\n",
       "      <td>619197</td>\n",
       "      <td>3033</td>\n",
       "      <td>607</td>\n",
       "      <td>286</td>\n",
       "      <td>6512493</td>\n",
       "      <td>124</td>\n",
       "      <td>39</td>\n",
       "      <td>10728.983526</td>\n",
       "      <td>1020.093904</td>\n",
       "      <td>10.517643</td>\n",
       "      <td>a</td>\n",
       "      <td>c</td>\n",
       "      <td>1680.0</td>\n",
       "      <td>NaN</td>\n",
       "      <td>NaN</td>\n",
       "      <td>1</td>\n",
       "      <td>45.0</td>\n",
       "      <td>2009.0</td>\n",
       "      <td>Feb,May,Aug,Nov</td>\n",
       "    </tr>\n",
       "  </tbody>\n",
       "</table>\n",
       "</div>"
      ],
      "text/plain": [
       "     Store  Customers  DayOfWeek  Open  Promo    Sales  SchoolHoliday  \\\n",
       "908    909     619197       3033   607    286  6512493            124   \n",
       "\n",
       "     StateHoliday  AverageDailySales  AverageDailyCustomer  SalesPerCustomer  \\\n",
       "908            39       10728.983526           1020.093904         10.517643   \n",
       "\n",
       "    StoreType Assortment  CompetitionDistance  CompetitionOpenSinceMonth  \\\n",
       "908         a          c               1680.0                        NaN   \n",
       "\n",
       "     CompetitionOpenSinceYear  Promo2  Promo2SinceWeek  Promo2SinceYear  \\\n",
       "908                       NaN       1             45.0           2009.0   \n",
       "\n",
       "       PromoInterval  \n",
       "908  Feb,May,Aug,Nov  "
      ]
     },
     "execution_count": 40,
     "metadata": {},
     "output_type": "execute_result"
    }
   ],
   "source": [
    "storedata= pd.read_csv('combined_data.csv')\n",
    "storedata.loc[storedata.Store==909]"
   ]
  },
  {
   "cell_type": "code",
   "execution_count": 41,
   "metadata": {},
   "outputs": [
    {
     "data": {
      "text/plain": [
       "Date\n",
       "2013-01-06    32206\n",
       "2013-01-13    70012\n",
       "2013-01-20    44869\n",
       "2013-01-27    66909\n",
       "2013-02-03    53550\n",
       "              ...  \n",
       "2015-07-05    20353\n",
       "2015-07-12        0\n",
       "2015-07-19    16051\n",
       "2015-07-26    98630\n",
       "2015-08-02    71724\n",
       "Freq: W-SUN, Name: Sales, Length: 135, dtype: int64"
      ]
     },
     "execution_count": 41,
     "metadata": {},
     "output_type": "execute_result"
    }
   ],
   "source": [
    "df.loc[df.Store==909].set_index('Date').resample('w').Sales.sum()"
   ]
  },
  {
   "cell_type": "code",
   "execution_count": 42,
   "metadata": {},
   "outputs": [
    {
     "data": {
      "text/plain": [
       "DatetimeIndex(['2015-05-31', '2015-06-07', '2015-06-14', '2015-06-21',\n",
       "               '2015-06-28', '2015-07-05', '2015-07-12', '2015-07-19',\n",
       "               '2015-07-26'],\n",
       "              dtype='datetime64[ns]', freq='W-SUN')"
      ]
     },
     "execution_count": 42,
     "metadata": {},
     "output_type": "execute_result"
    }
   ],
   "source": [
    "pd.date_range('2015-05-31', '2015-07-26', freq='W')"
   ]
  },
  {
   "cell_type": "code",
   "execution_count": 43,
   "metadata": {},
   "outputs": [
    {
     "data": {
      "text/plain": [
       "Date\n",
       "2015-06-07    67408\n",
       "2015-06-14    66482\n",
       "2015-06-21    80004\n",
       "2015-06-28    64590\n",
       "2015-07-05    83333\n",
       "2015-07-12    64515\n",
       "2015-07-19    77855\n",
       "2015-07-26    65400\n",
       "Freq: W-SUN, Name: Sales, dtype: int64"
      ]
     },
     "execution_count": 43,
     "metadata": {},
     "output_type": "execute_result"
    }
   ],
   "source": [
    "test"
   ]
  },
  {
   "cell_type": "code",
   "execution_count": 44,
   "metadata": {},
   "outputs": [],
   "source": [
    "#WAPE = SUM(abs(prediction - actual)/sum(actual) this goes for all stores but per time unit basis. "
   ]
  },
  {
   "cell_type": "code",
   "execution_count": 55,
   "metadata": {},
   "outputs": [
    {
     "data": {
      "application/vnd.plotly.v1+json": {
       "config": {
        "plotlyServerURL": "https://plot.ly"
       },
       "data": [
        {
         "line": {
          "color": "rgb(31, 119, 180)"
         },
         "mode": "lines",
         "name": "Previous 8 Weeks",
         "type": "scatter",
         "x": [
          "2015-06-07T00:00:00",
          "2015-06-14T00:00:00",
          "2015-06-21T00:00:00",
          "2015-06-28T00:00:00",
          "2015-07-05T00:00:00",
          "2015-07-12T00:00:00",
          "2015-07-19T00:00:00",
          "2015-07-26T00:00:00"
         ],
         "y": [
          67408,
          66482,
          80004,
          64590,
          83333,
          64515,
          77855,
          65400
         ]
        },
        {
         "line": {
          "color": "rgb(31, 119, 180)"
         },
         "mode": "lines",
         "name": "Forcast",
         "type": "scatter",
         "x": [
          "2015-08-02T00:00:00",
          "2015-08-09T00:00:00",
          "2015-08-16T00:00:00",
          "2015-08-23T00:00:00",
          "2015-08-30T00:00:00",
          "2015-09-06T00:00:00",
          "2015-09-13T00:00:00",
          "2015-09-20T00:00:00"
         ],
         "y": [
          79704.4524551134,
          70675.97999254019,
          82777.06640412513,
          75436.32964688088,
          85809.49603300502,
          79802.18769508475,
          88813.31877952175,
          83857.08720014984
         ]
        },
        {
         "line": {
          "width": 0
         },
         "marker": {
          "color": "#444"
         },
         "mode": "lines",
         "name": "Upper Bound",
         "showlegend": false,
         "type": "scatter",
         "x": [
          "2015-08-02T00:00:00",
          "2015-08-09T00:00:00",
          "2015-08-16T00:00:00",
          "2015-08-23T00:00:00",
          "2015-08-30T00:00:00",
          "2015-09-06T00:00:00",
          "2015-09-13T00:00:00",
          "2015-09-20T00:00:00"
         ],
         "y": [
          101828.28927318913,
          94723.99695933473,
          112969.35306843111,
          106610.62143677661,
          120502.98271616979,
          115092.23867050337,
          126348.77010114343,
          121781.26740502658
         ]
        },
        {
         "fill": "tonexty",
         "fillcolor": "rgba(68, 68, 68, 0.3)",
         "line": {
          "width": 0
         },
         "marker": {
          "color": "#444"
         },
         "mode": "lines",
         "name": "Lower Bound",
         "showlegend": false,
         "type": "scatter",
         "x": [
          "2015-08-02T00:00:00",
          "2015-08-09T00:00:00",
          "2015-08-16T00:00:00",
          "2015-08-23T00:00:00",
          "2015-08-30T00:00:00",
          "2015-09-06T00:00:00",
          "2015-09-13T00:00:00",
          "2015-09-20T00:00:00"
         ],
         "y": [
          57580.615637037656,
          46627.963025745645,
          52584.779739819154,
          44262.03785698516,
          51116.00934984025,
          44512.13671966613,
          51277.86745790009,
          45932.90699527309
         ]
        }
       ],
       "layout": {
        "height": 400,
        "hovermode": "x",
        "template": {
         "data": {
          "bar": [
           {
            "error_x": {
             "color": "#2a3f5f"
            },
            "error_y": {
             "color": "#2a3f5f"
            },
            "marker": {
             "line": {
              "color": "#E5ECF6",
              "width": 0.5
             }
            },
            "type": "bar"
           }
          ],
          "barpolar": [
           {
            "marker": {
             "line": {
              "color": "#E5ECF6",
              "width": 0.5
             }
            },
            "type": "barpolar"
           }
          ],
          "carpet": [
           {
            "aaxis": {
             "endlinecolor": "#2a3f5f",
             "gridcolor": "white",
             "linecolor": "white",
             "minorgridcolor": "white",
             "startlinecolor": "#2a3f5f"
            },
            "baxis": {
             "endlinecolor": "#2a3f5f",
             "gridcolor": "white",
             "linecolor": "white",
             "minorgridcolor": "white",
             "startlinecolor": "#2a3f5f"
            },
            "type": "carpet"
           }
          ],
          "choropleth": [
           {
            "colorbar": {
             "outlinewidth": 0,
             "ticks": ""
            },
            "type": "choropleth"
           }
          ],
          "contour": [
           {
            "colorbar": {
             "outlinewidth": 0,
             "ticks": ""
            },
            "colorscale": [
             [
              0,
              "#0d0887"
             ],
             [
              0.1111111111111111,
              "#46039f"
             ],
             [
              0.2222222222222222,
              "#7201a8"
             ],
             [
              0.3333333333333333,
              "#9c179e"
             ],
             [
              0.4444444444444444,
              "#bd3786"
             ],
             [
              0.5555555555555556,
              "#d8576b"
             ],
             [
              0.6666666666666666,
              "#ed7953"
             ],
             [
              0.7777777777777778,
              "#fb9f3a"
             ],
             [
              0.8888888888888888,
              "#fdca26"
             ],
             [
              1,
              "#f0f921"
             ]
            ],
            "type": "contour"
           }
          ],
          "contourcarpet": [
           {
            "colorbar": {
             "outlinewidth": 0,
             "ticks": ""
            },
            "type": "contourcarpet"
           }
          ],
          "heatmap": [
           {
            "colorbar": {
             "outlinewidth": 0,
             "ticks": ""
            },
            "colorscale": [
             [
              0,
              "#0d0887"
             ],
             [
              0.1111111111111111,
              "#46039f"
             ],
             [
              0.2222222222222222,
              "#7201a8"
             ],
             [
              0.3333333333333333,
              "#9c179e"
             ],
             [
              0.4444444444444444,
              "#bd3786"
             ],
             [
              0.5555555555555556,
              "#d8576b"
             ],
             [
              0.6666666666666666,
              "#ed7953"
             ],
             [
              0.7777777777777778,
              "#fb9f3a"
             ],
             [
              0.8888888888888888,
              "#fdca26"
             ],
             [
              1,
              "#f0f921"
             ]
            ],
            "type": "heatmap"
           }
          ],
          "heatmapgl": [
           {
            "colorbar": {
             "outlinewidth": 0,
             "ticks": ""
            },
            "colorscale": [
             [
              0,
              "#0d0887"
             ],
             [
              0.1111111111111111,
              "#46039f"
             ],
             [
              0.2222222222222222,
              "#7201a8"
             ],
             [
              0.3333333333333333,
              "#9c179e"
             ],
             [
              0.4444444444444444,
              "#bd3786"
             ],
             [
              0.5555555555555556,
              "#d8576b"
             ],
             [
              0.6666666666666666,
              "#ed7953"
             ],
             [
              0.7777777777777778,
              "#fb9f3a"
             ],
             [
              0.8888888888888888,
              "#fdca26"
             ],
             [
              1,
              "#f0f921"
             ]
            ],
            "type": "heatmapgl"
           }
          ],
          "histogram": [
           {
            "marker": {
             "colorbar": {
              "outlinewidth": 0,
              "ticks": ""
             }
            },
            "type": "histogram"
           }
          ],
          "histogram2d": [
           {
            "colorbar": {
             "outlinewidth": 0,
             "ticks": ""
            },
            "colorscale": [
             [
              0,
              "#0d0887"
             ],
             [
              0.1111111111111111,
              "#46039f"
             ],
             [
              0.2222222222222222,
              "#7201a8"
             ],
             [
              0.3333333333333333,
              "#9c179e"
             ],
             [
              0.4444444444444444,
              "#bd3786"
             ],
             [
              0.5555555555555556,
              "#d8576b"
             ],
             [
              0.6666666666666666,
              "#ed7953"
             ],
             [
              0.7777777777777778,
              "#fb9f3a"
             ],
             [
              0.8888888888888888,
              "#fdca26"
             ],
             [
              1,
              "#f0f921"
             ]
            ],
            "type": "histogram2d"
           }
          ],
          "histogram2dcontour": [
           {
            "colorbar": {
             "outlinewidth": 0,
             "ticks": ""
            },
            "colorscale": [
             [
              0,
              "#0d0887"
             ],
             [
              0.1111111111111111,
              "#46039f"
             ],
             [
              0.2222222222222222,
              "#7201a8"
             ],
             [
              0.3333333333333333,
              "#9c179e"
             ],
             [
              0.4444444444444444,
              "#bd3786"
             ],
             [
              0.5555555555555556,
              "#d8576b"
             ],
             [
              0.6666666666666666,
              "#ed7953"
             ],
             [
              0.7777777777777778,
              "#fb9f3a"
             ],
             [
              0.8888888888888888,
              "#fdca26"
             ],
             [
              1,
              "#f0f921"
             ]
            ],
            "type": "histogram2dcontour"
           }
          ],
          "mesh3d": [
           {
            "colorbar": {
             "outlinewidth": 0,
             "ticks": ""
            },
            "type": "mesh3d"
           }
          ],
          "parcoords": [
           {
            "line": {
             "colorbar": {
              "outlinewidth": 0,
              "ticks": ""
             }
            },
            "type": "parcoords"
           }
          ],
          "pie": [
           {
            "automargin": true,
            "type": "pie"
           }
          ],
          "scatter": [
           {
            "marker": {
             "colorbar": {
              "outlinewidth": 0,
              "ticks": ""
             }
            },
            "type": "scatter"
           }
          ],
          "scatter3d": [
           {
            "line": {
             "colorbar": {
              "outlinewidth": 0,
              "ticks": ""
             }
            },
            "marker": {
             "colorbar": {
              "outlinewidth": 0,
              "ticks": ""
             }
            },
            "type": "scatter3d"
           }
          ],
          "scattercarpet": [
           {
            "marker": {
             "colorbar": {
              "outlinewidth": 0,
              "ticks": ""
             }
            },
            "type": "scattercarpet"
           }
          ],
          "scattergeo": [
           {
            "marker": {
             "colorbar": {
              "outlinewidth": 0,
              "ticks": ""
             }
            },
            "type": "scattergeo"
           }
          ],
          "scattergl": [
           {
            "marker": {
             "colorbar": {
              "outlinewidth": 0,
              "ticks": ""
             }
            },
            "type": "scattergl"
           }
          ],
          "scattermapbox": [
           {
            "marker": {
             "colorbar": {
              "outlinewidth": 0,
              "ticks": ""
             }
            },
            "type": "scattermapbox"
           }
          ],
          "scatterpolar": [
           {
            "marker": {
             "colorbar": {
              "outlinewidth": 0,
              "ticks": ""
             }
            },
            "type": "scatterpolar"
           }
          ],
          "scatterpolargl": [
           {
            "marker": {
             "colorbar": {
              "outlinewidth": 0,
              "ticks": ""
             }
            },
            "type": "scatterpolargl"
           }
          ],
          "scatterternary": [
           {
            "marker": {
             "colorbar": {
              "outlinewidth": 0,
              "ticks": ""
             }
            },
            "type": "scatterternary"
           }
          ],
          "surface": [
           {
            "colorbar": {
             "outlinewidth": 0,
             "ticks": ""
            },
            "colorscale": [
             [
              0,
              "#0d0887"
             ],
             [
              0.1111111111111111,
              "#46039f"
             ],
             [
              0.2222222222222222,
              "#7201a8"
             ],
             [
              0.3333333333333333,
              "#9c179e"
             ],
             [
              0.4444444444444444,
              "#bd3786"
             ],
             [
              0.5555555555555556,
              "#d8576b"
             ],
             [
              0.6666666666666666,
              "#ed7953"
             ],
             [
              0.7777777777777778,
              "#fb9f3a"
             ],
             [
              0.8888888888888888,
              "#fdca26"
             ],
             [
              1,
              "#f0f921"
             ]
            ],
            "type": "surface"
           }
          ],
          "table": [
           {
            "cells": {
             "fill": {
              "color": "#EBF0F8"
             },
             "line": {
              "color": "white"
             }
            },
            "header": {
             "fill": {
              "color": "#C8D4E3"
             },
             "line": {
              "color": "white"
             }
            },
            "type": "table"
           }
          ]
         },
         "layout": {
          "annotationdefaults": {
           "arrowcolor": "#2a3f5f",
           "arrowhead": 0,
           "arrowwidth": 1
          },
          "coloraxis": {
           "colorbar": {
            "outlinewidth": 0,
            "ticks": ""
           }
          },
          "colorscale": {
           "diverging": [
            [
             0,
             "#8e0152"
            ],
            [
             0.1,
             "#c51b7d"
            ],
            [
             0.2,
             "#de77ae"
            ],
            [
             0.3,
             "#f1b6da"
            ],
            [
             0.4,
             "#fde0ef"
            ],
            [
             0.5,
             "#f7f7f7"
            ],
            [
             0.6,
             "#e6f5d0"
            ],
            [
             0.7,
             "#b8e186"
            ],
            [
             0.8,
             "#7fbc41"
            ],
            [
             0.9,
             "#4d9221"
            ],
            [
             1,
             "#276419"
            ]
           ],
           "sequential": [
            [
             0,
             "#0d0887"
            ],
            [
             0.1111111111111111,
             "#46039f"
            ],
            [
             0.2222222222222222,
             "#7201a8"
            ],
            [
             0.3333333333333333,
             "#9c179e"
            ],
            [
             0.4444444444444444,
             "#bd3786"
            ],
            [
             0.5555555555555556,
             "#d8576b"
            ],
            [
             0.6666666666666666,
             "#ed7953"
            ],
            [
             0.7777777777777778,
             "#fb9f3a"
            ],
            [
             0.8888888888888888,
             "#fdca26"
            ],
            [
             1,
             "#f0f921"
            ]
           ],
           "sequentialminus": [
            [
             0,
             "#0d0887"
            ],
            [
             0.1111111111111111,
             "#46039f"
            ],
            [
             0.2222222222222222,
             "#7201a8"
            ],
            [
             0.3333333333333333,
             "#9c179e"
            ],
            [
             0.4444444444444444,
             "#bd3786"
            ],
            [
             0.5555555555555556,
             "#d8576b"
            ],
            [
             0.6666666666666666,
             "#ed7953"
            ],
            [
             0.7777777777777778,
             "#fb9f3a"
            ],
            [
             0.8888888888888888,
             "#fdca26"
            ],
            [
             1,
             "#f0f921"
            ]
           ]
          },
          "colorway": [
           "#636efa",
           "#EF553B",
           "#00cc96",
           "#ab63fa",
           "#FFA15A",
           "#19d3f3",
           "#FF6692",
           "#B6E880",
           "#FF97FF",
           "#FECB52"
          ],
          "font": {
           "color": "#2a3f5f"
          },
          "geo": {
           "bgcolor": "white",
           "lakecolor": "white",
           "landcolor": "#E5ECF6",
           "showlakes": true,
           "showland": true,
           "subunitcolor": "white"
          },
          "hoverlabel": {
           "align": "left"
          },
          "hovermode": "closest",
          "mapbox": {
           "style": "light"
          },
          "paper_bgcolor": "white",
          "plot_bgcolor": "#E5ECF6",
          "polar": {
           "angularaxis": {
            "gridcolor": "white",
            "linecolor": "white",
            "ticks": ""
           },
           "bgcolor": "#E5ECF6",
           "radialaxis": {
            "gridcolor": "white",
            "linecolor": "white",
            "ticks": ""
           }
          },
          "scene": {
           "xaxis": {
            "backgroundcolor": "#E5ECF6",
            "gridcolor": "white",
            "gridwidth": 2,
            "linecolor": "white",
            "showbackground": true,
            "ticks": "",
            "zerolinecolor": "white"
           },
           "yaxis": {
            "backgroundcolor": "#E5ECF6",
            "gridcolor": "white",
            "gridwidth": 2,
            "linecolor": "white",
            "showbackground": true,
            "ticks": "",
            "zerolinecolor": "white"
           },
           "zaxis": {
            "backgroundcolor": "#E5ECF6",
            "gridcolor": "white",
            "gridwidth": 2,
            "linecolor": "white",
            "showbackground": true,
            "ticks": "",
            "zerolinecolor": "white"
           }
          },
          "shapedefaults": {
           "line": {
            "color": "#2a3f5f"
           }
          },
          "ternary": {
           "aaxis": {
            "gridcolor": "white",
            "linecolor": "white",
            "ticks": ""
           },
           "baxis": {
            "gridcolor": "white",
            "linecolor": "white",
            "ticks": ""
           },
           "bgcolor": "#E5ECF6",
           "caxis": {
            "gridcolor": "white",
            "linecolor": "white",
            "ticks": ""
           }
          },
          "title": {
           "x": 0.05
          },
          "xaxis": {
           "automargin": true,
           "gridcolor": "white",
           "linecolor": "white",
           "ticks": "",
           "title": {
            "standoff": 15
           },
           "zerolinecolor": "white",
           "zerolinewidth": 2
          },
          "yaxis": {
           "automargin": true,
           "gridcolor": "white",
           "linecolor": "white",
           "ticks": "",
           "title": {
            "standoff": 15
           },
           "zerolinecolor": "white",
           "zerolinewidth": 2
          }
         }
        },
        "width": 700,
        "yaxis": {
         "title": {
          "text": "Weekly Sales "
         }
        }
       }
      },
      "text/html": [
       "<div>                            <div id=\"65add226-9550-43ad-b302-6f86b871f237\" class=\"plotly-graph-div\" style=\"height:400px; width:700px;\"></div>            <script type=\"text/javascript\">                require([\"plotly\"], function(Plotly) {                    window.PLOTLYENV=window.PLOTLYENV || {};                                    if (document.getElementById(\"65add226-9550-43ad-b302-6f86b871f237\")) {                    Plotly.newPlot(                        \"65add226-9550-43ad-b302-6f86b871f237\",                        [{\"line\": {\"color\": \"rgb(31, 119, 180)\"}, \"mode\": \"lines\", \"name\": \"Previous 8 Weeks\", \"type\": \"scatter\", \"x\": [\"2015-06-07T00:00:00\", \"2015-06-14T00:00:00\", \"2015-06-21T00:00:00\", \"2015-06-28T00:00:00\", \"2015-07-05T00:00:00\", \"2015-07-12T00:00:00\", \"2015-07-19T00:00:00\", \"2015-07-26T00:00:00\"], \"y\": [67408.0, 66482.0, 80004.0, 64590.0, 83333.0, 64515.0, 77855.0, 65400.0]}, {\"line\": {\"color\": \"rgb(31, 119, 180)\"}, \"mode\": \"lines\", \"name\": \"Forcast\", \"type\": \"scatter\", \"x\": [\"2015-08-02T00:00:00\", \"2015-08-09T00:00:00\", \"2015-08-16T00:00:00\", \"2015-08-23T00:00:00\", \"2015-08-30T00:00:00\", \"2015-09-06T00:00:00\", \"2015-09-13T00:00:00\", \"2015-09-20T00:00:00\"], \"y\": [79704.4524551134, 70675.97999254019, 82777.06640412513, 75436.32964688088, 85809.49603300502, 79802.18769508475, 88813.31877952175, 83857.08720014984]}, {\"line\": {\"width\": 0}, \"marker\": {\"color\": \"#444\"}, \"mode\": \"lines\", \"name\": \"Upper Bound\", \"showlegend\": false, \"type\": \"scatter\", \"x\": [\"2015-08-02T00:00:00\", \"2015-08-09T00:00:00\", \"2015-08-16T00:00:00\", \"2015-08-23T00:00:00\", \"2015-08-30T00:00:00\", \"2015-09-06T00:00:00\", \"2015-09-13T00:00:00\", \"2015-09-20T00:00:00\"], \"y\": [101828.28927318913, 94723.99695933473, 112969.35306843111, 106610.62143677661, 120502.98271616979, 115092.23867050337, 126348.77010114343, 121781.26740502658]}, {\"fill\": \"tonexty\", \"fillcolor\": \"rgba(68, 68, 68, 0.3)\", \"line\": {\"width\": 0}, \"marker\": {\"color\": \"#444\"}, \"mode\": \"lines\", \"name\": \"Lower Bound\", \"showlegend\": false, \"type\": \"scatter\", \"x\": [\"2015-08-02T00:00:00\", \"2015-08-09T00:00:00\", \"2015-08-16T00:00:00\", \"2015-08-23T00:00:00\", \"2015-08-30T00:00:00\", \"2015-09-06T00:00:00\", \"2015-09-13T00:00:00\", \"2015-09-20T00:00:00\"], \"y\": [57580.615637037656, 46627.963025745645, 52584.779739819154, 44262.03785698516, 51116.00934984025, 44512.13671966613, 51277.86745790009, 45932.90699527309]}],                        {\"height\": 400, \"hovermode\": \"x\", \"template\": {\"data\": {\"bar\": [{\"error_x\": {\"color\": \"#2a3f5f\"}, \"error_y\": {\"color\": \"#2a3f5f\"}, \"marker\": {\"line\": {\"color\": \"#E5ECF6\", \"width\": 0.5}}, \"type\": \"bar\"}], \"barpolar\": [{\"marker\": {\"line\": {\"color\": \"#E5ECF6\", \"width\": 0.5}}, \"type\": \"barpolar\"}], \"carpet\": [{\"aaxis\": {\"endlinecolor\": \"#2a3f5f\", \"gridcolor\": \"white\", \"linecolor\": \"white\", \"minorgridcolor\": \"white\", \"startlinecolor\": \"#2a3f5f\"}, \"baxis\": {\"endlinecolor\": \"#2a3f5f\", \"gridcolor\": \"white\", \"linecolor\": \"white\", \"minorgridcolor\": \"white\", \"startlinecolor\": \"#2a3f5f\"}, \"type\": \"carpet\"}], \"choropleth\": [{\"colorbar\": {\"outlinewidth\": 0, \"ticks\": \"\"}, \"type\": \"choropleth\"}], \"contour\": [{\"colorbar\": {\"outlinewidth\": 0, \"ticks\": \"\"}, \"colorscale\": [[0.0, \"#0d0887\"], [0.1111111111111111, \"#46039f\"], [0.2222222222222222, \"#7201a8\"], [0.3333333333333333, \"#9c179e\"], [0.4444444444444444, \"#bd3786\"], [0.5555555555555556, \"#d8576b\"], [0.6666666666666666, \"#ed7953\"], [0.7777777777777778, \"#fb9f3a\"], [0.8888888888888888, \"#fdca26\"], [1.0, \"#f0f921\"]], \"type\": \"contour\"}], \"contourcarpet\": [{\"colorbar\": {\"outlinewidth\": 0, \"ticks\": \"\"}, \"type\": \"contourcarpet\"}], \"heatmap\": [{\"colorbar\": {\"outlinewidth\": 0, \"ticks\": \"\"}, \"colorscale\": [[0.0, \"#0d0887\"], [0.1111111111111111, \"#46039f\"], [0.2222222222222222, \"#7201a8\"], [0.3333333333333333, \"#9c179e\"], [0.4444444444444444, \"#bd3786\"], [0.5555555555555556, \"#d8576b\"], [0.6666666666666666, \"#ed7953\"], [0.7777777777777778, \"#fb9f3a\"], [0.8888888888888888, \"#fdca26\"], [1.0, \"#f0f921\"]], \"type\": \"heatmap\"}], \"heatmapgl\": [{\"colorbar\": {\"outlinewidth\": 0, \"ticks\": \"\"}, \"colorscale\": [[0.0, \"#0d0887\"], [0.1111111111111111, \"#46039f\"], [0.2222222222222222, \"#7201a8\"], [0.3333333333333333, \"#9c179e\"], [0.4444444444444444, \"#bd3786\"], [0.5555555555555556, \"#d8576b\"], [0.6666666666666666, \"#ed7953\"], [0.7777777777777778, \"#fb9f3a\"], [0.8888888888888888, \"#fdca26\"], [1.0, \"#f0f921\"]], \"type\": \"heatmapgl\"}], \"histogram\": [{\"marker\": {\"colorbar\": {\"outlinewidth\": 0, \"ticks\": \"\"}}, \"type\": \"histogram\"}], \"histogram2d\": [{\"colorbar\": {\"outlinewidth\": 0, \"ticks\": \"\"}, \"colorscale\": [[0.0, \"#0d0887\"], [0.1111111111111111, \"#46039f\"], [0.2222222222222222, \"#7201a8\"], [0.3333333333333333, \"#9c179e\"], [0.4444444444444444, \"#bd3786\"], [0.5555555555555556, \"#d8576b\"], [0.6666666666666666, \"#ed7953\"], [0.7777777777777778, \"#fb9f3a\"], [0.8888888888888888, \"#fdca26\"], [1.0, \"#f0f921\"]], \"type\": \"histogram2d\"}], \"histogram2dcontour\": [{\"colorbar\": {\"outlinewidth\": 0, \"ticks\": \"\"}, \"colorscale\": [[0.0, \"#0d0887\"], [0.1111111111111111, \"#46039f\"], [0.2222222222222222, \"#7201a8\"], [0.3333333333333333, \"#9c179e\"], [0.4444444444444444, \"#bd3786\"], [0.5555555555555556, \"#d8576b\"], [0.6666666666666666, \"#ed7953\"], [0.7777777777777778, \"#fb9f3a\"], [0.8888888888888888, \"#fdca26\"], [1.0, \"#f0f921\"]], \"type\": \"histogram2dcontour\"}], \"mesh3d\": [{\"colorbar\": {\"outlinewidth\": 0, \"ticks\": \"\"}, \"type\": \"mesh3d\"}], \"parcoords\": [{\"line\": {\"colorbar\": {\"outlinewidth\": 0, \"ticks\": \"\"}}, \"type\": \"parcoords\"}], \"pie\": [{\"automargin\": true, \"type\": \"pie\"}], \"scatter\": [{\"marker\": {\"colorbar\": {\"outlinewidth\": 0, \"ticks\": \"\"}}, \"type\": \"scatter\"}], \"scatter3d\": [{\"line\": {\"colorbar\": {\"outlinewidth\": 0, \"ticks\": \"\"}}, \"marker\": {\"colorbar\": {\"outlinewidth\": 0, \"ticks\": \"\"}}, \"type\": \"scatter3d\"}], \"scattercarpet\": [{\"marker\": {\"colorbar\": {\"outlinewidth\": 0, \"ticks\": \"\"}}, \"type\": \"scattercarpet\"}], \"scattergeo\": [{\"marker\": {\"colorbar\": {\"outlinewidth\": 0, \"ticks\": \"\"}}, \"type\": \"scattergeo\"}], \"scattergl\": [{\"marker\": {\"colorbar\": {\"outlinewidth\": 0, \"ticks\": \"\"}}, \"type\": \"scattergl\"}], \"scattermapbox\": [{\"marker\": {\"colorbar\": {\"outlinewidth\": 0, \"ticks\": \"\"}}, \"type\": \"scattermapbox\"}], \"scatterpolar\": [{\"marker\": {\"colorbar\": {\"outlinewidth\": 0, \"ticks\": \"\"}}, \"type\": \"scatterpolar\"}], \"scatterpolargl\": [{\"marker\": {\"colorbar\": {\"outlinewidth\": 0, \"ticks\": \"\"}}, \"type\": \"scatterpolargl\"}], \"scatterternary\": [{\"marker\": {\"colorbar\": {\"outlinewidth\": 0, \"ticks\": \"\"}}, \"type\": \"scatterternary\"}], \"surface\": [{\"colorbar\": {\"outlinewidth\": 0, \"ticks\": \"\"}, \"colorscale\": [[0.0, \"#0d0887\"], [0.1111111111111111, \"#46039f\"], [0.2222222222222222, \"#7201a8\"], [0.3333333333333333, \"#9c179e\"], [0.4444444444444444, \"#bd3786\"], [0.5555555555555556, \"#d8576b\"], [0.6666666666666666, \"#ed7953\"], [0.7777777777777778, \"#fb9f3a\"], [0.8888888888888888, \"#fdca26\"], [1.0, \"#f0f921\"]], \"type\": \"surface\"}], \"table\": [{\"cells\": {\"fill\": {\"color\": \"#EBF0F8\"}, \"line\": {\"color\": \"white\"}}, \"header\": {\"fill\": {\"color\": \"#C8D4E3\"}, \"line\": {\"color\": \"white\"}}, \"type\": \"table\"}]}, \"layout\": {\"annotationdefaults\": {\"arrowcolor\": \"#2a3f5f\", \"arrowhead\": 0, \"arrowwidth\": 1}, \"coloraxis\": {\"colorbar\": {\"outlinewidth\": 0, \"ticks\": \"\"}}, \"colorscale\": {\"diverging\": [[0, \"#8e0152\"], [0.1, \"#c51b7d\"], [0.2, \"#de77ae\"], [0.3, \"#f1b6da\"], [0.4, \"#fde0ef\"], [0.5, \"#f7f7f7\"], [0.6, \"#e6f5d0\"], [0.7, \"#b8e186\"], [0.8, \"#7fbc41\"], [0.9, \"#4d9221\"], [1, \"#276419\"]], \"sequential\": [[0.0, \"#0d0887\"], [0.1111111111111111, \"#46039f\"], [0.2222222222222222, \"#7201a8\"], [0.3333333333333333, \"#9c179e\"], [0.4444444444444444, \"#bd3786\"], [0.5555555555555556, \"#d8576b\"], [0.6666666666666666, \"#ed7953\"], [0.7777777777777778, \"#fb9f3a\"], [0.8888888888888888, \"#fdca26\"], [1.0, \"#f0f921\"]], \"sequentialminus\": [[0.0, \"#0d0887\"], [0.1111111111111111, \"#46039f\"], [0.2222222222222222, \"#7201a8\"], [0.3333333333333333, \"#9c179e\"], [0.4444444444444444, \"#bd3786\"], [0.5555555555555556, \"#d8576b\"], [0.6666666666666666, \"#ed7953\"], [0.7777777777777778, \"#fb9f3a\"], [0.8888888888888888, \"#fdca26\"], [1.0, \"#f0f921\"]]}, \"colorway\": [\"#636efa\", \"#EF553B\", \"#00cc96\", \"#ab63fa\", \"#FFA15A\", \"#19d3f3\", \"#FF6692\", \"#B6E880\", \"#FF97FF\", \"#FECB52\"], \"font\": {\"color\": \"#2a3f5f\"}, \"geo\": {\"bgcolor\": \"white\", \"lakecolor\": \"white\", \"landcolor\": \"#E5ECF6\", \"showlakes\": true, \"showland\": true, \"subunitcolor\": \"white\"}, \"hoverlabel\": {\"align\": \"left\"}, \"hovermode\": \"closest\", \"mapbox\": {\"style\": \"light\"}, \"paper_bgcolor\": \"white\", \"plot_bgcolor\": \"#E5ECF6\", \"polar\": {\"angularaxis\": {\"gridcolor\": \"white\", \"linecolor\": \"white\", \"ticks\": \"\"}, \"bgcolor\": \"#E5ECF6\", \"radialaxis\": {\"gridcolor\": \"white\", \"linecolor\": \"white\", \"ticks\": \"\"}}, \"scene\": {\"xaxis\": {\"backgroundcolor\": \"#E5ECF6\", \"gridcolor\": \"white\", \"gridwidth\": 2, \"linecolor\": \"white\", \"showbackground\": true, \"ticks\": \"\", \"zerolinecolor\": \"white\"}, \"yaxis\": {\"backgroundcolor\": \"#E5ECF6\", \"gridcolor\": \"white\", \"gridwidth\": 2, \"linecolor\": \"white\", \"showbackground\": true, \"ticks\": \"\", \"zerolinecolor\": \"white\"}, \"zaxis\": {\"backgroundcolor\": \"#E5ECF6\", \"gridcolor\": \"white\", \"gridwidth\": 2, \"linecolor\": \"white\", \"showbackground\": true, \"ticks\": \"\", \"zerolinecolor\": \"white\"}}, \"shapedefaults\": {\"line\": {\"color\": \"#2a3f5f\"}}, \"ternary\": {\"aaxis\": {\"gridcolor\": \"white\", \"linecolor\": \"white\", \"ticks\": \"\"}, \"baxis\": {\"gridcolor\": \"white\", \"linecolor\": \"white\", \"ticks\": \"\"}, \"bgcolor\": \"#E5ECF6\", \"caxis\": {\"gridcolor\": \"white\", \"linecolor\": \"white\", \"ticks\": \"\"}}, \"title\": {\"x\": 0.05}, \"xaxis\": {\"automargin\": true, \"gridcolor\": \"white\", \"linecolor\": \"white\", \"ticks\": \"\", \"title\": {\"standoff\": 15}, \"zerolinecolor\": \"white\", \"zerolinewidth\": 2}, \"yaxis\": {\"automargin\": true, \"gridcolor\": \"white\", \"linecolor\": \"white\", \"ticks\": \"\", \"title\": {\"standoff\": 15}, \"zerolinecolor\": \"white\", \"zerolinewidth\": 2}}}, \"width\": 700, \"yaxis\": {\"title\": {\"text\": \"Weekly Sales \"}}},                        {\"responsive\": true}                    ).then(function(){\n",
       "                            \n",
       "var gd = document.getElementById('65add226-9550-43ad-b302-6f86b871f237');\n",
       "var x = new MutationObserver(function (mutations, observer) {{\n",
       "        var display = window.getComputedStyle(gd).display;\n",
       "        if (!display || display === 'none') {{\n",
       "            console.log([gd, 'removed!']);\n",
       "            Plotly.purge(gd);\n",
       "            observer.disconnect();\n",
       "        }}\n",
       "}});\n",
       "\n",
       "// Listen for the removal of the full notebook cells\n",
       "var notebookContainer = gd.closest('#notebook-container');\n",
       "if (notebookContainer) {{\n",
       "    x.observe(notebookContainer, {childList: true});\n",
       "}}\n",
       "\n",
       "// Listen for the clearing of the current output cell\n",
       "var outputEl = gd.closest('.output');\n",
       "if (outputEl) {{\n",
       "    x.observe(outputEl, {childList: true});\n",
       "}}\n",
       "\n",
       "                        })                };                });            </script>        </div>"
      ]
     },
     "metadata": {},
     "output_type": "display_data"
    }
   ],
   "source": [
    "# visualize the forecast plot\n",
    "\n",
    "fig = go.Figure([\n",
    "     go.Scatter(\n",
    "        name='Previous 8 Weeks',\n",
    "        x=storeweeklysales[-9:-1].index,\n",
    "        y=webresult['Previous 8 Weeks'],\n",
    "        mode='lines',\n",
    "        line=dict(color='rgb(31, 119, 180)'),\n",
    "    ),\n",
    "    go.Scatter(\n",
    "        name='Forcast',\n",
    "        x=webresult.index,\n",
    "        y=webresult['Forecast'],\n",
    "        mode='lines',\n",
    "        line=dict(color='rgb(31, 119, 180)'),\n",
    "    ),\n",
    "    go.Scatter(\n",
    "        name='Upper Bound',\n",
    "        x=webresult.index,\n",
    "        y=webresult['upper CI'],\n",
    "        mode='lines',\n",
    "        marker=dict(color=\"#444\"),\n",
    "        line=dict(width=0),\n",
    "        showlegend=False\n",
    "    ),\n",
    "    go.Scatter(\n",
    "        name='Lower Bound',\n",
    "        x=webresult.index,\n",
    "        y=webresult['lower CI'],\n",
    "        marker=dict(color=\"#444\"),\n",
    "        line=dict(width=0),\n",
    "        mode='lines',\n",
    "        fillcolor='rgba(68, 68, 68, 0.3)',\n",
    "        fill='tonexty',\n",
    "        showlegend=False\n",
    "    )\n",
    "])\n",
    "fig.update_layout(\n",
    "    width=700,\n",
    "    height=400,\n",
    "    yaxis_title='Weekly Sales ',\n",
    "    hovermode=\"x\"\n",
    ")\n",
    "fig.show()"
   ]
  },
  {
   "cell_type": "code",
   "execution_count": 46,
   "metadata": {
    "jupyter": {
     "source_hidden": true
    }
   },
   "outputs": [],
   "source": [
    "\n",
    "# class prediction:\n",
    "#     warnings.filterwarnings(\"ignore\")\n",
    "\n",
    "#     def __init__(self, data, storeid):\n",
    "#         self.data = data\n",
    "#         self.storeid = storeid\n",
    "\n",
    "#     def predict(self):\n",
    "#         storeweeklysales = self.data.loc[self.data.Store == self.storeid].set_index('Date').resample('w').Sales.sum()\n",
    "    \n",
    "#         if len(storeweeklysales[(storeweeklysales == 0)].index) == 0:\n",
    "#             train, test = (storeweeklysales[:-9], storeweeklysales[-9:-1])\n",
    "#             arima_model = auto_arima(train, start_p=0, d=0, start_q=0,\n",
    "#                                      max_p=5, max_d=5, max_q=5, start_P=0,\n",
    "#                                      D=1, start_Q=0, max_P=5, max_D=5,\n",
    "#                                      max_Q=5, m=2, seasonal=True,\n",
    "#                                      error_action='warn', trace=False,\n",
    "#                                      supress_warnings=True, stepwise=False,\n",
    "#                                      random=True,\n",
    "#                                      random_state=20, n_fits=50)\n",
    "\n",
    "#             predictresult1 = arima_model.predict(n_periods=8)\n",
    "#             true_values = test.values\n",
    "#             mae = mean_absolute_error(true_values, predictresult1)\n",
    "#             R2 = r2_score(true_values, predictresult1)\n",
    "#             return pd.DataFrame([mae, R2], index=['MAE', 'R2'], columns=[self.storeid]).T\n",
    "#             #return pd.DataFrame([mae, R2])\n",
    "\n",
    "#         else:\n",
    "#             train_startdate = storeweeklysales.loc[storeweeklysales[(storeweeklysales == 0)].index[-1]:].index[1]\n",
    "#             if len(storeweeklysales.loc[train_startdate:]) >= 11:\n",
    "#                 train_enddate = len(storeweeklysales.loc[train_startdate:]) - 9\n",
    "#                 train = storeweeklysales.loc[train_startdate:][:train_enddate]\n",
    "#                 test = storeweeklysales.loc[train_startdate:][train_enddate:-1]\n",
    "\n",
    "#                 arima_model = auto_arima(train, start_p=0, d=0,\n",
    "#                                          start_q=0,\n",
    "#                                          max_p=5, max_d=5, max_q=5, start_P=0,\n",
    "#                                          D=1, start_Q=0, max_P=5, max_D=5,\n",
    "#                                          max_Q=5, m=2, seasonal=True,\n",
    "#                                          error_action='warn', trace=False,\n",
    "#                                          supress_warnings=True, stepwise=False,\n",
    "#                                          random=True,\n",
    "#                                          random_state=20, n_fits=50)\n",
    "\n",
    "#                 predictresult = arima_model.predict(n_periods=8)\n",
    "#                 true_values = test.values\n",
    "#                 mae_2 = mean_absolute_error(true_values, predictresult)\n",
    "#                 R2_2 = r2_score(true_values, predictresult)\n",
    "#                 return pd.DataFrame([mae_2, R2_2], index=['MAE', 'R2'], columns=[self.storeid]).T\n",
    "#                 #return pd.DataFrame([mae_2, R2_2])\n",
    "\n",
    "#             else:\n",
    "#                 storeweeklysales = storeweeklysales[storeweeklysales != 0]\n",
    "#                 train, test = (storeweeklysales[:-9], storeweeklysales[-9:-1])\n",
    "#                 arima_model = auto_arima(train, start_p=0, d=0, start_q=0,\n",
    "#                                          max_p=5, max_d=5, max_q=5, start_P=0,\n",
    "#                                          D=1, start_Q=0, max_P=5, max_D=5,\n",
    "#                                          max_Q=5, m=2, seasonal=True,\n",
    "#                                          error_action='warn', trace=False,\n",
    "#                                          supress_warnings=True, stepwise=False,\n",
    "#                                          random=True,\n",
    "#                                          random_state=20, n_fits=50)\n",
    "\n",
    "#                 predictresult1 = arima_model.predict(n_periods=8)\n",
    "#                 true_values = test.values\n",
    "#                 mae = mean_absolute_error(true_values, predictresult1)\n",
    "#                 R2 = r2_score(true_values, predictresult1)\n",
    "#                 return pd.DataFrame([mae, R2], index=['MAE', 'R2'], columns=[self.storeid]).T\n",
    "#                 #return pd.DataFrame([mae, R2])\n"
   ]
  }
 ],
 "metadata": {
  "kernelspec": {
   "display_name": "py36",
   "language": "python",
   "name": "py36"
  },
  "language_info": {
   "codemirror_mode": {
    "name": "ipython",
    "version": 3
   },
   "file_extension": ".py",
   "mimetype": "text/x-python",
   "name": "python",
   "nbconvert_exporter": "python",
   "pygments_lexer": "ipython3",
   "version": "3.6.10"
  }
 },
 "nbformat": 4,
 "nbformat_minor": 4
}
